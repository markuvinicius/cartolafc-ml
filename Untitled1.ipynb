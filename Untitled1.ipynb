{
 "cells": [
  {
   "cell_type": "code",
   "execution_count": 21,
   "metadata": {
    "collapsed": true
   },
   "outputs": [],
   "source": [
    "import cartolafc\n",
    "from cartolafc.models import Atleta\n",
    "from cartolafc.models import PontuacaoInfo\n",
    "api = cartolafc.Api()"
   ]
  },
  {
   "cell_type": "code",
   "execution_count": 22,
   "metadata": {},
   "outputs": [
    {
     "name": "stdout",
     "output_type": "stream",
     "text": [
      "5 Mercado aberto\n"
     ]
    }
   ],
   "source": [
    "mercado = api.mercado()\n",
    "print(mercado.rodada_atual, mercado.status.nome)"
   ]
  },
  {
   "cell_type": "code",
   "execution_count": 23,
   "metadata": {},
   "outputs": [],
   "source": [
    "api =  cartolafc.Api(email='markuvinicius@gmail.com', password='mk16540553@')"
   ]
  },
  {
   "cell_type": "code",
   "execution_count": 24,
   "metadata": {},
   "outputs": [
    {
     "data": {
      "text/plain": [
       "dict"
      ]
     },
     "execution_count": 24,
     "metadata": {},
     "output_type": "execute_result"
    }
   ],
   "source": [
    "type(api.clubes())"
   ]
  },
  {
   "cell_type": "code",
   "execution_count": 37,
   "metadata": {},
   "outputs": [],
   "source": [
    "\n",
    "p = api.clubes()\n"
   ]
  },
  {
   "cell_type": "code",
   "execution_count": 61,
   "metadata": {},
   "outputs": [
    {
     "data": {
      "text/plain": [
       "{1: <cartolafc.models.Clube at 0x10e117a20>,\n",
       " 262: <cartolafc.models.Clube at 0x10e118cc0>,\n",
       " 263: <cartolafc.models.Clube at 0x10e10d048>,\n",
       " 264: <cartolafc.models.Clube at 0x10e10d748>,\n",
       " 265: <cartolafc.models.Clube at 0x10e10dfd0>,\n",
       " 266: <cartolafc.models.Clube at 0x10e118a20>,\n",
       " 267: <cartolafc.models.Clube at 0x10e118cf8>,\n",
       " 275: <cartolafc.models.Clube at 0x10e10d9b0>,\n",
       " 276: <cartolafc.models.Clube at 0x10e10d860>,\n",
       " 277: <cartolafc.models.Clube at 0x10e1178d0>,\n",
       " 278: <cartolafc.models.Clube at 0x10e1187f0>,\n",
       " 279: <cartolafc.models.Clube at 0x10e10d898>,\n",
       " 280: <cartolafc.models.Clube at 0x10e117198>,\n",
       " 282: <cartolafc.models.Clube at 0x10e118d30>,\n",
       " 283: <cartolafc.models.Clube at 0x10e10d208>,\n",
       " 284: <cartolafc.models.Clube at 0x10e10d550>,\n",
       " 285: <cartolafc.models.Clube at 0x10e1172e8>,\n",
       " 286: <cartolafc.models.Clube at 0x10e10d240>,\n",
       " 287: <cartolafc.models.Clube at 0x10e118e10>,\n",
       " 288: <cartolafc.models.Clube at 0x10e1189e8>,\n",
       " 289: <cartolafc.models.Clube at 0x10e10de10>,\n",
       " 290: <cartolafc.models.Clube at 0x10e10d940>,\n",
       " 291: <cartolafc.models.Clube at 0x10e1177f0>,\n",
       " 292: <cartolafc.models.Clube at 0x10e10d0f0>,\n",
       " 293: <cartolafc.models.Clube at 0x10e10d828>,\n",
       " 294: <cartolafc.models.Clube at 0x10e118f28>,\n",
       " 303: <cartolafc.models.Clube at 0x10e118b70>,\n",
       " 306: <cartolafc.models.Clube at 0x10e118710>,\n",
       " 314: <cartolafc.models.Clube at 0x10e10d5f8>,\n",
       " 315: <cartolafc.models.Clube at 0x10e118e48>,\n",
       " 316: <cartolafc.models.Clube at 0x10e117358>,\n",
       " 317: <cartolafc.models.Clube at 0x10e118b38>,\n",
       " 327: <cartolafc.models.Clube at 0x10e117908>,\n",
       " 342: <cartolafc.models.Clube at 0x10e118c18>,\n",
       " 343: <cartolafc.models.Clube at 0x10e118be0>,\n",
       " 344: <cartolafc.models.Clube at 0x10e10d908>,\n",
       " 350: <cartolafc.models.Clube at 0x10e10d978>,\n",
       " 351: <cartolafc.models.Clube at 0x10e10d160>,\n",
       " 354: <cartolafc.models.Clube at 0x10e118ac8>,\n",
       " 356: <cartolafc.models.Clube at 0x10e118f60>,\n",
       " 362: <cartolafc.models.Clube at 0x10e10ddd8>,\n",
       " 363: <cartolafc.models.Clube at 0x10e118e80>,\n",
       " 364: <cartolafc.models.Clube at 0x10e118d68>,\n",
       " 373: <cartolafc.models.Clube at 0x10e10dd68>,\n",
       " 375: <cartolafc.models.Clube at 0x10e10dbe0>,\n",
       " 386: <cartolafc.models.Clube at 0x10e118ef0>,\n",
       " 388: <cartolafc.models.Clube at 0x10e117438>,\n",
       " 1349: <cartolafc.models.Clube at 0x10e118c50>,\n",
       " 1390: <cartolafc.models.Clube at 0x10e10d400>,\n",
       " 2190: <cartolafc.models.Clube at 0x10e10d6a0>,\n",
       " 2193: <cartolafc.models.Clube at 0x10e118ba8>,\n",
       " 2197: <cartolafc.models.Clube at 0x10e117208>,\n",
       " 2554: <cartolafc.models.Clube at 0x10e10d128>,\n",
       " 2565: <cartolafc.models.Clube at 0x10e10d198>,\n",
       " 3057: <cartolafc.models.Clube at 0x10e118da0>}"
      ]
     },
     "execution_count": 61,
     "metadata": {},
     "output_type": "execute_result"
    }
   ],
   "source": [
    "p"
   ]
  },
  {
   "cell_type": "code",
   "execution_count": 64,
   "metadata": {},
   "outputs": [
    {
     "name": "stdout",
     "output_type": "stream",
     "text": [
      "Outros\n",
      "São Caetano\n",
      "Brasiliense\n",
      "Luverdense\n",
      "Flamengo\n",
      "Botafogo\n",
      "Corinthians\n",
      "Bahia\n",
      "Fluminense\n",
      "Vasco\n",
      "Oeste\n",
      "Duque de Caxias\n",
      "Palmeiras\n",
      "São Paulo\n",
      "Americana\n",
      "Portuguesa\n",
      "Guarani\n",
      "Bragantino\n",
      "Atlético-MG\n",
      "Cruzeiro\n",
      "Grêmio\n",
      "Internacional\n",
      "Juventude\n",
      "Vitória\n",
      "Criciúma\n",
      "Paraná\n",
      "Goiás\n",
      "Paysandu\n",
      "Sport\n",
      "Atlético-PR\n",
      "Coritiba\n",
      "Ponte Preta\n",
      "Santo André\n",
      "Avaí\n",
      "Chapecoense\n",
      "Figueirense\n",
      "Joinville\n",
      "Ipatinga\n",
      "América-MG\n",
      "ASA Arapiraca\n",
      "Náutico\n",
      "Santa Cruz\n",
      "ABC\n",
      "América-RN\n",
      "Ceará\n",
      "Fortaleza\n",
      "Moto Club\n",
      "Sampaio Corrêa\n",
      "Remo\n",
      "Icasa\n",
      "Boa Esporte\n",
      "Atlético-GO\n",
      "Vila Nova\n",
      "Grêmio Prudente\n",
      "Santos\n"
     ]
    }
   ],
   "source": [
    "for c in p:\n",
    "    print(p[c].nome)"
   ]
  },
  {
   "cell_type": "code",
   "execution_count": 185,
   "metadata": {},
   "outputs": [],
   "source": [
    "ma = api.mercado_atletas()"
   ]
  },
  {
   "cell_type": "code",
   "execution_count": 187,
   "metadata": {},
   "outputs": [
    {
     "name": "stdout",
     "output_type": "stream",
     "text": [
      "<class 'list'>\n",
      "799\n"
     ]
    }
   ],
   "source": [
    "print(type(ma))\n",
    "print(len(ma))"
   ]
  },
  {
   "cell_type": "code",
   "execution_count": 225,
   "metadata": {},
   "outputs": [],
   "source": [
    "a = ma[290]"
   ]
  },
  {
   "cell_type": "code",
   "execution_count": 226,
   "metadata": {},
   "outputs": [
    {
     "data": {
      "text/plain": [
       "cartolafc.models.Atleta"
      ]
     },
     "execution_count": 226,
     "metadata": {},
     "output_type": "execute_result"
    }
   ],
   "source": [
    "type(a)"
   ]
  },
  {
   "cell_type": "code",
   "execution_count": 227,
   "metadata": {},
   "outputs": [
    {
     "data": {
      "text/plain": [
       "'Jhemerson'"
      ]
     },
     "execution_count": 227,
     "metadata": {},
     "output_type": "execute_result"
    }
   ],
   "source": [
    "a.apelido"
   ]
  },
  {
   "cell_type": "code",
   "execution_count": 228,
   "metadata": {},
   "outputs": [
    {
     "data": {
      "text/plain": [
       "'Vitória'"
      ]
     },
     "execution_count": 228,
     "metadata": {},
     "output_type": "execute_result"
    }
   ],
   "source": [
    "a.clube.nome"
   ]
  },
  {
   "cell_type": "code",
   "execution_count": 229,
   "metadata": {},
   "outputs": [
    {
     "data": {
      "text/plain": [
       "0"
      ]
     },
     "execution_count": 229,
     "metadata": {},
     "output_type": "execute_result"
    }
   ],
   "source": [
    "a.pontos"
   ]
  },
  {
   "cell_type": "code",
   "execution_count": 230,
   "metadata": {},
   "outputs": [
    {
     "data": {
      "text/plain": [
       "Posicao(id=4, nome='Meia', abreviacao='mei')"
      ]
     },
     "execution_count": 230,
     "metadata": {},
     "output_type": "execute_result"
    }
   ],
   "source": [
    "a.posicao"
   ]
  },
  {
   "cell_type": "code",
   "execution_count": 231,
   "metadata": {},
   "outputs": [
    {
     "data": {
      "text/plain": [
       "{'FF': 2, 'RB': 1}"
      ]
     },
     "execution_count": 231,
     "metadata": {},
     "output_type": "execute_result"
    }
   ],
   "source": [
    "a.scout"
   ]
  },
  {
   "cell_type": "code",
   "execution_count": 232,
   "metadata": {},
   "outputs": [
    {
     "data": {
      "text/plain": [
       "Status(id=6, nome='Nulo')"
      ]
     },
     "execution_count": 232,
     "metadata": {},
     "output_type": "execute_result"
    }
   ],
   "source": [
    "a.status"
   ]
  },
  {
   "cell_type": "code",
   "execution_count": 238,
   "metadata": {},
   "outputs": [],
   "source": [
    "l = a.scout.items()"
   ]
  },
  {
   "cell_type": "code",
   "execution_count": 244,
   "metadata": {},
   "outputs": [
    {
     "name": "stdout",
     "output_type": "stream",
     "text": [
      "FF\n",
      "RB\n"
     ]
    }
   ],
   "source": [
    "for l in a.scout.items():\n",
    "    print(l[0])"
   ]
  },
  {
   "cell_type": "code",
   "execution_count": 219,
   "metadata": {},
   "outputs": [],
   "source": [
    "if len(a.scout.items()) > 0:\n",
    "    #for t in a.scout.items():\n",
    "    #    print(t)\n",
    "    if ('FE' in a.scout):\n",
    "        print('sim')"
   ]
  },
  {
   "cell_type": "code",
   "execution_count": 223,
   "metadata": {},
   "outputs": [],
   "source": [
    "a={}"
   ]
  },
  {
   "cell_type": "code",
   "execution_count": 249,
   "metadata": {},
   "outputs": [],
   "source": [
    "d={}\n",
    "for a in api.mercado_atletas():\n",
    "    #print(\"ID: {} - Clube: {} - Apelido: {} - posicao {} - pontuacao {}\".format(a.id,a.clube.nome,a.apelido,a.posicao[1],a.pontos))\n",
    "    for s in a.scout.items():\n",
    "        if s[0] not in d:\n",
    "            d[s[0]] = s[1]\n",
    "    \n",
    "    "
   ]
  },
  {
   "cell_type": "code",
   "execution_count": 255,
   "metadata": {},
   "outputs": [
    {
     "name": "stdout",
     "output_type": "stream",
     "text": [
      "{'FD': 1, 'G': 1, 'CA': 1, 'FC': 2, 'FS': 2, 'DD': 7, 'GS': 5, 'PP': 1, 'SG': 1, 'CV': 1, 'FT': 1, 'A': 1, 'PE': 1, 'RB': 2, 'DP': 1, 'I': 1, 'FF': 2}\n",
      "17\n"
     ]
    }
   ],
   "source": [
    "print(d)\n",
    "print(len(d))"
   ]
  },
  {
   "cell_type": "code",
   "execution_count": 182,
   "metadata": {},
   "outputs": [
    {
     "ename": "TypeError",
     "evalue": "__init__() missing 5 required positional arguments: 'apelido', 'pontos', 'scout', 'posicao_id', and 'clube'",
     "output_type": "error",
     "traceback": [
      "\u001b[0;31m---------------------------------------------------------------------------\u001b[0m",
      "\u001b[0;31mTypeError\u001b[0m                                 Traceback (most recent call last)",
      "\u001b[0;32m<ipython-input-182-47bbf23db50e>\u001b[0m in \u001b[0;36m<module>\u001b[0;34m()\u001b[0m\n\u001b[0;32m----> 1\u001b[0;31m \u001b[0mcartolafc\u001b[0m\u001b[0;34m.\u001b[0m\u001b[0mapi\u001b[0m\u001b[0;34m.\u001b[0m\u001b[0mAtleta\u001b[0m\u001b[0;34m(\u001b[0m\u001b[0matleta_id\u001b[0m\u001b[0;34m=\u001b[0m\u001b[0;36m37604\u001b[0m\u001b[0;34m)\u001b[0m\u001b[0;34m\u001b[0m\u001b[0m\n\u001b[0m",
      "\u001b[0;31mTypeError\u001b[0m: __init__() missing 5 required positional arguments: 'apelido', 'pontos', 'scout', 'posicao_id', and 'clube'"
     ]
    }
   ],
   "source": [
    "cartolafc.api.Atleta(atleta_id=37604)"
   ]
  },
  {
   "cell_type": "code",
   "execution_count": 188,
   "metadata": {
    "collapsed": true
   },
   "outputs": [],
   "source": [
    "a = ma[0]"
   ]
  },
  {
   "cell_type": "code",
   "execution_count": 189,
   "metadata": {},
   "outputs": [
    {
     "data": {
      "text/plain": [
       "'Edu Dracena'"
      ]
     },
     "execution_count": 189,
     "metadata": {},
     "output_type": "execute_result"
    }
   ],
   "source": [
    "a.apelido"
   ]
  },
  {
   "cell_type": "code",
   "execution_count": 273,
   "metadata": {},
   "outputs": [],
   "source": [
    "p = api.pontuacao_atleta(id=94154)"
   ]
  },
  {
   "cell_type": "code",
   "execution_count": 265,
   "metadata": {},
   "outputs": [
    {
     "data": {
      "text/plain": [
       "list"
      ]
     },
     "execution_count": 265,
     "metadata": {},
     "output_type": "execute_result"
    }
   ],
   "source": [
    "type(p)"
   ]
  },
  {
   "cell_type": "code",
   "execution_count": 267,
   "metadata": {},
   "outputs": [],
   "source": [
    "l = p[0]"
   ]
  },
  {
   "cell_type": "code",
   "execution_count": 269,
   "metadata": {},
   "outputs": [
    {
     "data": {
      "text/plain": [
       "1"
      ]
     },
     "execution_count": 269,
     "metadata": {},
     "output_type": "execute_result"
    }
   ],
   "source": [
    "l.rodada_id"
   ]
  },
  {
   "cell_type": "code",
   "execution_count": 270,
   "metadata": {},
   "outputs": [
    {
     "name": "stdout",
     "output_type": "stream",
     "text": [
      "0.4\n",
      "5.94\n",
      "-2.06\n",
      "0.4\n"
     ]
    }
   ],
   "source": [
    "print(l.pontos)\n",
    "print(l.preco)\n",
    "print(l.variacao)\n",
    "print(l.media)\n",
    "\n"
   ]
  },
  {
   "cell_type": "code",
   "execution_count": null,
   "metadata": {
    "collapsed": true
   },
   "outputs": [],
   "source": []
  }
 ],
 "metadata": {
  "anaconda-cloud": {},
  "kernelspec": {
   "display_name": "Python [default]",
   "language": "python",
   "name": "python3"
  },
  "language_info": {
   "codemirror_mode": {
    "name": "ipython",
    "version": 3
   },
   "file_extension": ".py",
   "mimetype": "text/x-python",
   "name": "python",
   "nbconvert_exporter": "python",
   "pygments_lexer": "ipython3",
   "version": "3.5.3"
  }
 },
 "nbformat": 4,
 "nbformat_minor": 1
}
