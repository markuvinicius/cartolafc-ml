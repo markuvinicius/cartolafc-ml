{
 "cells": [
  {
   "cell_type": "code",
   "execution_count": 1,
   "metadata": {},
   "outputs": [
    {
     "name": "stderr",
     "output_type": "stream",
     "text": [
      "/Users/Marku/anaconda/envs/gl-env/lib/python2.7/site-packages/numexpr/cpuinfo.py:76: UserWarning: [Errno 2] No such file or directory\n",
      "  stacklevel=stacklevel + 1):\n"
     ]
    },
    {
     "name": "stdout",
     "output_type": "stream",
     "text": [
      "This non-commercial license of GraphLab Create for academic use is assigned to markuvinicius@gmail.com and will expire on May 19, 2018.\n"
     ]
    },
    {
     "name": "stderr",
     "output_type": "stream",
     "text": [
      "[INFO] graphlab.cython.cy_server: GraphLab Create v2.1 started. Logging: /tmp/graphlab_server_1496882224.log\n"
     ]
    }
   ],
   "source": [
    "import graphlab\n",
    "import pandas as pd\n",
    "import matplotlib.pyplot as plt"
   ]
  },
  {
   "cell_type": "code",
   "execution_count": 2,
   "metadata": {},
   "outputs": [
    {
     "data": {
      "text/html": [
       "<pre>Finished parsing file /Users/Marku/Documents/data_center/WorkSpace/cartola-ml/cartola_data_bck.csv</pre>"
      ],
      "text/plain": [
       "Finished parsing file /Users/Marku/Documents/data_center/WorkSpace/cartola-ml/cartola_data_bck.csv"
      ]
     },
     "metadata": {},
     "output_type": "display_data"
    },
    {
     "data": {
      "text/html": [
       "<pre>Parsing completed. Parsed 100 lines in 0.0992 secs.</pre>"
      ],
      "text/plain": [
       "Parsing completed. Parsed 100 lines in 0.0992 secs."
      ]
     },
     "metadata": {},
     "output_type": "display_data"
    },
    {
     "name": "stdout",
     "output_type": "stream",
     "text": [
      "------------------------------------------------------\n",
      "Inferred types from first 100 line(s) of file as \n",
      "column_type_hints=[int,int,int,str,str,str,float,str,int,int,int,int,int,int,int,int,int,int,int,int,int,int,int,int,int,str,str,str,str,str,str,str,str,str,str,str,str]\n",
      "If parsing fails due to incorrect types, you can correct\n",
      "the inferred type list above and pass it to read_csv in\n",
      "the column_type_hints argument\n",
      "------------------------------------------------------\n"
     ]
    },
    {
     "data": {
      "text/html": [
       "<pre>Finished parsing file /Users/Marku/Documents/data_center/WorkSpace/cartola-ml/cartola_data_bck.csv</pre>"
      ],
      "text/plain": [
       "Finished parsing file /Users/Marku/Documents/data_center/WorkSpace/cartola-ml/cartola_data_bck.csv"
      ]
     },
     "metadata": {},
     "output_type": "display_data"
    },
    {
     "data": {
      "text/html": [
       "<pre>Parsing completed. Parsed 800 lines in 0.017269 secs.</pre>"
      ],
      "text/plain": [
       "Parsing completed. Parsed 800 lines in 0.017269 secs."
      ]
     },
     "metadata": {},
     "output_type": "display_data"
    }
   ],
   "source": [
    "data = graphlab.SFrame('cartola_data_bck.csv')"
   ]
  },
  {
   "cell_type": "code",
   "execution_count": 10,
   "metadata": {},
   "outputs": [],
   "source": [
    "data = data[data['ultima_pontuacao']!=0]"
   ]
  },
  {
   "cell_type": "code",
   "execution_count": 11,
   "metadata": {},
   "outputs": [
    {
     "data": {
      "application/javascript": [
       "$(\"head\").append($(\"<link/>\").attr({\n",
       "  rel:  \"stylesheet\",\n",
       "  type: \"text/css\",\n",
       "  href: \"//cdnjs.cloudflare.com/ajax/libs/font-awesome/4.1.0/css/font-awesome.min.css\"\n",
       "}));\n",
       "$(\"head\").append($(\"<link/>\").attr({\n",
       "  rel:  \"stylesheet\",\n",
       "  type: \"text/css\",\n",
       "  href: \"https://static.turi.com/products/graphlab-create/2.1/canvas/css/canvas.css\"\n",
       "}));\n",
       "\n",
       "            (function(){\n",
       "\n",
       "                var e = null;\n",
       "                if (typeof element == 'undefined') {\n",
       "                    var scripts = document.getElementsByTagName('script');\n",
       "                    var thisScriptTag = scripts[scripts.length-1];\n",
       "                    var parentDiv = thisScriptTag.parentNode;\n",
       "                    e = document.createElement('div');\n",
       "                    parentDiv.appendChild(e);\n",
       "                } else {\n",
       "                    e = element[0];\n",
       "                }\n",
       "\n",
       "                if (typeof requirejs !== 'undefined') {\n",
       "                    // disable load timeout; ipython_app.js is large and can take a while to load.\n",
       "                    requirejs.config({waitSeconds: 0});\n",
       "                }\n",
       "\n",
       "                require(['https://static.turi.com/products/graphlab-create/2.1/canvas/js/ipython_app.js'], function(IPythonApp){\n",
       "                    var app = new IPythonApp();\n",
       "                    app.attachView('sarray','Categorical', {\"ipython\": true, \"sketch\": {\"std\": 4.263141379322374, \"complete\": true, \"min\": -6.6, \"max\": 21.1, \"quantile\": [-6.6, -4.6, -4.0, -3.4, -2.8, -2.6, -2.4, -2.0, -2.0, -1.9, -1.7, -1.5, -1.3, -1.2, -1.1, -1.0, -0.9, -0.9, -0.8, -0.7, -0.7, -0.6, -0.4, -0.3, -0.3, -0.2, -0.2, -0.1, 0.1, 0.14, 0.2, 0.3, 0.3, 0.33, 0.4, 0.5, 0.5, 0.6, 0.6, 0.7, 0.8, 0.8, 0.9, 1.0, 1.1, 1.2, 1.3, 1.4, 1.5, 1.6, 1.7, 1.7, 2.0, 2.0, 2.2, 2.4, 2.6, 2.6, 2.7, 2.8, 3.0, 3.2, 3.5, 3.51, 3.8, 3.9, 4.07, 4.2, 4.39, 4.5, 4.6, 4.8, 5.0, 5.0, 5.2, 5.35, 5.5, 5.77, 5.8, 6.1, 6.2, 6.4, 6.6, 6.7, 6.7, 7.4, 7.7, 8.0, 8.1, 8.3, 8.5, 8.93, 9.2, 9.5, 10.1, 10.4, 11.0, 11.9, 14.9, 15.7, 21.1], \"median\": 1.7, \"numeric\": true, \"num_unique\": 140, \"num_undefined\": 0, \"var\": 18.17437442009067, \"progress\": 1.0, \"size\": 288, \"frequent_items\": {\"8.5\": {\"frequency\": 3, \"value\": 8.5}, \"2.5\": {\"frequency\": 1, \"value\": 2.5}, \"2.0\": {\"frequency\": 4, \"value\": 2.0}, \"3.0\": {\"frequency\": 2, \"value\": 3.0}, \"4.0\": {\"frequency\": 2, \"value\": 4.0}, \"5.0\": {\"frequency\": 7, \"value\": 5.0}, \"0.5\": {\"frequency\": 6, \"value\": 0.5}, \"1.0\": {\"frequency\": 4, \"value\": 1.0}, \"8.0\": {\"frequency\": 2, \"value\": 8.0}, \"11.0\": {\"frequency\": 2, \"value\": 11.0}, \"12.0\": {\"frequency\": 1, \"value\": 12.0}, \"-2.4\": {\"frequency\": 1, \"value\": -2.4}, \"8.3\": {\"frequency\": 1, \"value\": 8.3}, \"8.9\": {\"frequency\": 1, \"value\": 8.9}, \"6.8\": {\"frequency\": 1, \"value\": 6.8}, \"0.2\": {\"frequency\": 4, \"value\": 0.2}, \"7.5\": {\"frequency\": 2, \"value\": 7.5}, \"4.8\": {\"frequency\": 1, \"value\": 4.8}, \"3.8\": {\"frequency\": 4, \"value\": 3.8}, \"7.4\": {\"frequency\": 1, \"value\": 7.4}, \"3.51\": {\"frequency\": 1, \"value\": 3.51}, \"1.5\": {\"frequency\": 1, \"value\": 1.5}, \"0.3\": {\"frequency\": 5, \"value\": 0.3}, \"0.4\": {\"frequency\": 3, \"value\": 0.4}, \"0.27\": {\"frequency\": 1, \"value\": 0.27}, \"5.1\": {\"frequency\": 1, \"value\": 5.1}, \"15.3\": {\"frequency\": 1, \"value\": 15.3}, \"3.5\": {\"frequency\": 3, \"value\": 3.5}, \"0.6\": {\"frequency\": 6, \"value\": 0.6}, \"14.9\": {\"frequency\": 1, \"value\": 14.9}, \"2.7\": {\"frequency\": 2, \"value\": 2.7}, \"3.2\": {\"frequency\": 2, \"value\": 3.2}, \"-1.4\": {\"frequency\": 2, \"value\": -1.4}, \"0.8\": {\"frequency\": 5, \"value\": 0.8}, \"5.2\": {\"frequency\": 1, \"value\": 5.2}, \"-0.7\": {\"frequency\": 4, \"value\": -0.7}, \"0.14\": {\"frequency\": 1, \"value\": 0.14}, \"2.2\": {\"frequency\": 4, \"value\": 2.2}, \"4.5\": {\"frequency\": 3, \"value\": 4.5}, \"1.2\": {\"frequency\": 3, \"value\": 1.2}, \"-3.4\": {\"frequency\": 2, \"value\": -3.4}, \"1.6\": {\"frequency\": 4, \"value\": 1.6}, \"10.5\": {\"frequency\": 1, \"value\": 10.5}, \"-0.2\": {\"frequency\": 3, \"value\": -0.2}, \"9.5\": {\"frequency\": 1, \"value\": 9.5}, \"3.9\": {\"frequency\": 1, \"value\": 3.9}, \"4.39\": {\"frequency\": 1, \"value\": 4.39}, \"9.2\": {\"frequency\": 2, \"value\": 9.2}, \"3.7\": {\"frequency\": 1, \"value\": 3.7}, \"7.9\": {\"frequency\": 1, \"value\": 7.9}, \"10.4\": {\"frequency\": 1, \"value\": 10.4}, \"7.7\": {\"frequency\": 2, \"value\": 7.7}, \"6.3\": {\"frequency\": 2, \"value\": 6.3}, \"5.9\": {\"frequency\": 1, \"value\": 5.9}, \"5.3\": {\"frequency\": 1, \"value\": 5.3}, \"-1.9\": {\"frequency\": 1, \"value\": -1.9}, \"2.4\": {\"frequency\": 2, \"value\": 2.4}, \"-2.1\": {\"frequency\": 1, \"value\": -2.1}, \"-2.6\": {\"frequency\": 5, \"value\": -2.6}, \"15.1\": {\"frequency\": 1, \"value\": 15.1}, \"5.6\": {\"frequency\": 1, \"value\": 5.6}, \"-1.6\": {\"frequency\": 1, \"value\": -1.6}, \"9.6\": {\"frequency\": 1, \"value\": 9.6}, \"9.3\": {\"frequency\": 1, \"value\": 9.3}, \"-4.6\": {\"frequency\": 3, \"value\": -4.6}, \"1.7\": {\"frequency\": 5, \"value\": 1.7}, \"0.31\": {\"frequency\": 1, \"value\": 0.31}, \"-0.9\": {\"frequency\": 4, \"value\": -0.9}, \"4.1\": {\"frequency\": 1, \"value\": 4.1}, \"21.1\": {\"frequency\": 1, \"value\": 21.1}, \"8.93\": {\"frequency\": 1, \"value\": 8.93}, \"-1.8\": {\"frequency\": 2, \"value\": -1.8}, \"10.3\": {\"frequency\": 1, \"value\": 10.3}, \"6.12\": {\"frequency\": 1, \"value\": 6.12}, \"4.4\": {\"frequency\": 1, \"value\": 4.4}, \"6.1\": {\"frequency\": 2, \"value\": 6.1}, \"3.1\": {\"frequency\": 1, \"value\": 3.1}, \"2.1\": {\"frequency\": 1, \"value\": 2.1}, \"-2.9\": {\"frequency\": 1, \"value\": -2.9}, \"6.4\": {\"frequency\": 1, \"value\": 6.4}, \"-0.3\": {\"frequency\": 6, \"value\": -0.3}, \"0.7\": {\"frequency\": 3, \"value\": 0.7}, \"-1.5\": {\"frequency\": 2, \"value\": -1.5}, \"-2.8\": {\"frequency\": 1, \"value\": -2.8}, \"0.9\": {\"frequency\": 2, \"value\": 0.9}, \"0.33\": {\"frequency\": 1, \"value\": 0.33}, \"-4.2\": {\"frequency\": 1, \"value\": -4.2}, \"0.1\": {\"frequency\": 3, \"value\": 0.1}, \"10.8\": {\"frequency\": 1, \"value\": 10.8}, \"5.36\": {\"frequency\": 1, \"value\": 5.36}, \"-6.6\": {\"frequency\": 1, \"value\": -6.6}, \"1.3\": {\"frequency\": 3, \"value\": 1.3}, \"-2.3\": {\"frequency\": 1, \"value\": -2.3}, \"-1.2\": {\"frequency\": 3, \"value\": -1.2}, \"9.7\": {\"frequency\": 1, \"value\": 9.7}, \"3.3\": {\"frequency\": 1, \"value\": 3.3}, \"11.9\": {\"frequency\": 1, \"value\": 11.9}, \"2.6\": {\"frequency\": 5, \"value\": 2.6}, \"6.42\": {\"frequency\": 1, \"value\": 6.42}, \"8.1\": {\"frequency\": 2, \"value\": 8.1}, \"5.77\": {\"frequency\": 1, \"value\": 5.77}, \"2.9\": {\"frequency\": 2, \"value\": 2.9}, \"1.4\": {\"frequency\": 4, \"value\": 1.4}, \"1.9\": {\"frequency\": 1, \"value\": 1.9}, \"2.8\": {\"frequency\": 2, \"value\": 2.8}, \"-1.1\": {\"frequency\": 3, \"value\": -1.1}, \"-0.1\": {\"frequency\": 5, \"value\": -0.1}, \"4.3\": {\"frequency\": 2, \"value\": 4.3}, \"6.2\": {\"frequency\": 2, \"value\": 6.2}, \"-3.6\": {\"frequency\": 2, \"value\": -3.6}, \"4.7\": {\"frequency\": 1, \"value\": 4.7}, \"5.28\": {\"frequency\": 1, \"value\": 5.28}, \"-0.4\": {\"frequency\": 3, \"value\": -0.4}, \"6.9\": {\"frequency\": 1, \"value\": 6.9}, \"6.7\": {\"frequency\": 4, \"value\": 6.7}, \"8.2\": {\"frequency\": 2, \"value\": 8.2}, \"12.4\": {\"frequency\": 1, \"value\": 12.4}, \"8.8\": {\"frequency\": 1, \"value\": 8.8}, \"9.4\": {\"frequency\": 1, \"value\": 9.4}, \"4.2\": {\"frequency\": 1, \"value\": 4.2}, \"-0.8\": {\"frequency\": 5, \"value\": -0.8}, \"4.6\": {\"frequency\": 2, \"value\": 4.6}, \"-0.6\": {\"frequency\": 5, \"value\": -0.6}, \"18.4\": {\"frequency\": 1, \"value\": 18.4}, \"-1.3\": {\"frequency\": 3, \"value\": -1.3}, \"1.1\": {\"frequency\": 2, \"value\": 1.1}, \"0.65\": {\"frequency\": 1, \"value\": 0.65}, \"6.6\": {\"frequency\": 3, \"value\": 6.6}, \"15.7\": {\"frequency\": 1, \"value\": 15.7}, \"11.7\": {\"frequency\": 1, \"value\": 11.7}, \"4.07\": {\"frequency\": 1, \"value\": 4.07}, \"-4.0\": {\"frequency\": 1, \"value\": -4.0}, \"4.67\": {\"frequency\": 1, \"value\": 4.67}, \"10.1\": {\"frequency\": 2, \"value\": 10.1}, \"-1.0\": {\"frequency\": 2, \"value\": -1.0}, \"5.35\": {\"frequency\": 1, \"value\": 5.35}, \"-1.7\": {\"frequency\": 1, \"value\": -1.7}, \"5.5\": {\"frequency\": 2, \"value\": 5.5}, \"5.8\": {\"frequency\": 3, \"value\": 5.8}, \"-2.0\": {\"frequency\": 5, \"value\": -2.0}}, \"mean\": 2.7877430555555547}, \"selected_variable\": {\"name\": [\"<SArray>\"], \"dtype\": \"float\", \"view_component\": \"Categorical\", \"view_file\": \"sarray\", \"descriptives\": {\"rows\": 288}, \"type\": \"SArray\", \"view_components\": [\"Numeric\", \"Categorical\"]}, \"histogram\": {\"progress\": 1.0, \"histogram\": {\"max\": 21.154400000000003, \"bins\": [4, 16, 69, 77, 39, 39, 24, 11, 3, 4, 1, 1], \"min\": -6.6664}, \"min\": -6.6, \"complete\": 1, \"max\": 21.1}}, e);\n",
       "                });\n",
       "            })();\n",
       "        "
      ]
     },
     "metadata": {},
     "output_type": "display_data"
    }
   ],
   "source": [
    "graphlab.canvas.set_target('ipynb')\n",
    "data['ultima_pontuacao'].show(view='Categorical')"
   ]
  },
  {
   "cell_type": "code",
   "execution_count": null,
   "metadata": {
    "collapsed": true
   },
   "outputs": [],
   "source": [
    "data['T'].apply( lambda row : )"
   ]
  },
  {
   "cell_type": "code",
   "execution_count": 58,
   "metadata": {},
   "outputs": [
    {
     "data": {
      "text/plain": [
       "dtype: float\n",
       "Rows: 288\n",
       "[None, None, None, None, None, None, None, None, None, None, None, None, None, None, None, None, None, None, None, None, None, None, None, None, None, None, None, None, None, None, None, None, None, None, None, None, None, None, None, None, None, None, None, None, None, None, None, None, None, None, None, None, None, None, None, None, None, None, None, None, None, None, None, None, None, None, None, None, None, None, None, None, None, None, None, None, None, None, None, None, None, None, None, None, None, None, None, None, None, None, None, None, None, None, None, None, None, None, None, None, ... ]"
      ]
     },
     "execution_count": 58,
     "metadata": {},
     "output_type": "execute_result"
    }
   ],
   "source": [
    "def normaliza_posicao(row):\n",
    "    if ( row['posicao.1']=='Técnico' ):\n",
    "        row['T'] = 1\n",
    "    elif ( row['posicao.1']=='Goleiro' ):    \n",
    "        row['G'] = 1\n",
    "    elif ( row['posicao.1']=='Zagueiro'):\n",
    "        row['Z'] = 1\n",
    "    elif ( row['posicao.1']=='Lateral' ):\n",
    "        row['L'] = 1\n",
    "    elif ( row['posicao.1']=='Meia'):\n",
    "        row['M'] = 1\n",
    "    elif (row['posicao.1']=='Atacante'):\n",
    "        row['A'] = 1\n",
    "        \n",
    "data.apply(normaliza_posicao)"
   ]
  },
  {
   "cell_type": "code",
   "execution_count": 59,
   "metadata": {},
   "outputs": [
    {
     "data": {
      "text/html": [
       "<div style=\"max-height:1000px;max-width:1500px;overflow:auto;\"><table frame=\"box\" rules=\"cols\">\n",
       "    <tr>\n",
       "        <th style=\"padding-left: 1em; padding-right: 1em; text-align: center\">X1</th>\n",
       "        <th style=\"padding-left: 1em; padding-right: 1em; text-align: center\">id</th>\n",
       "        <th style=\"padding-left: 1em; padding-right: 1em; text-align: center\">posicao</th>\n",
       "        <th style=\"padding-left: 1em; padding-right: 1em; text-align: center\">apelido</th>\n",
       "        <th style=\"padding-left: 1em; padding-right: 1em; text-align: center\">clube</th>\n",
       "        <th style=\"padding-left: 1em; padding-right: 1em; text-align: center\">posicao.1</th>\n",
       "        <th style=\"padding-left: 1em; padding-right: 1em; text-align: center\">ultima_pontuacao</th>\n",
       "        <th style=\"padding-left: 1em; padding-right: 1em; text-align: center\">status</th>\n",
       "        <th style=\"padding-left: 1em; padding-right: 1em; text-align: center\">FD</th>\n",
       "        <th style=\"padding-left: 1em; padding-right: 1em; text-align: center\">G</th>\n",
       "        <th style=\"padding-left: 1em; padding-right: 1em; text-align: center\">CA</th>\n",
       "        <th style=\"padding-left: 1em; padding-right: 1em; text-align: center\">FC</th>\n",
       "        <th style=\"padding-left: 1em; padding-right: 1em; text-align: center\">FS</th>\n",
       "    </tr>\n",
       "    <tr>\n",
       "        <td style=\"padding-left: 1em; padding-right: 1em; text-align: center; vertical-align: top\">2</td>\n",
       "        <td style=\"padding-left: 1em; padding-right: 1em; text-align: center; vertical-align: top\">93414</td>\n",
       "        <td style=\"padding-left: 1em; padding-right: 1em; text-align: center; vertical-align: top\">2</td>\n",
       "        <td style=\"padding-left: 1em; padding-right: 1em; text-align: center; vertical-align: top\">Joel Carli</td>\n",
       "        <td style=\"padding-left: 1em; padding-right: 1em; text-align: center; vertical-align: top\">Botafogo</td>\n",
       "        <td style=\"padding-left: 1em; padding-right: 1em; text-align: center; vertical-align: top\">Zagueiro</td>\n",
       "        <td style=\"padding-left: 1em; padding-right: 1em; text-align: center; vertical-align: top\">3.8</td>\n",
       "        <td style=\"padding-left: 1em; padding-right: 1em; text-align: center; vertical-align: top\">Provável</td>\n",
       "        <td style=\"padding-left: 1em; padding-right: 1em; text-align: center; vertical-align: top\">0</td>\n",
       "        <td style=\"padding-left: 1em; padding-right: 1em; text-align: center; vertical-align: top\">0</td>\n",
       "        <td style=\"padding-left: 1em; padding-right: 1em; text-align: center; vertical-align: top\">0</td>\n",
       "        <td style=\"padding-left: 1em; padding-right: 1em; text-align: center; vertical-align: top\">0</td>\n",
       "        <td style=\"padding-left: 1em; padding-right: 1em; text-align: center; vertical-align: top\">0</td>\n",
       "    </tr>\n",
       "    <tr>\n",
       "        <td style=\"padding-left: 1em; padding-right: 1em; text-align: center; vertical-align: top\">3</td>\n",
       "        <td style=\"padding-left: 1em; padding-right: 1em; text-align: center; vertical-align: top\">68930</td>\n",
       "        <td style=\"padding-left: 1em; padding-right: 1em; text-align: center; vertical-align: top\">3</td>\n",
       "        <td style=\"padding-left: 1em; padding-right: 1em; text-align: center; vertical-align: top\">Kieza</td>\n",
       "        <td style=\"padding-left: 1em; padding-right: 1em; text-align: center; vertical-align: top\">Vitória</td>\n",
       "        <td style=\"padding-left: 1em; padding-right: 1em; text-align: center; vertical-align: top\">Atacante</td>\n",
       "        <td style=\"padding-left: 1em; padding-right: 1em; text-align: center; vertical-align: top\">8.0</td>\n",
       "        <td style=\"padding-left: 1em; padding-right: 1em; text-align: center; vertical-align: top\">Provável</td>\n",
       "        <td style=\"padding-left: 1em; padding-right: 1em; text-align: center; vertical-align: top\">0</td>\n",
       "        <td style=\"padding-left: 1em; padding-right: 1em; text-align: center; vertical-align: top\">0</td>\n",
       "        <td style=\"padding-left: 1em; padding-right: 1em; text-align: center; vertical-align: top\">0</td>\n",
       "        <td style=\"padding-left: 1em; padding-right: 1em; text-align: center; vertical-align: top\">0</td>\n",
       "        <td style=\"padding-left: 1em; padding-right: 1em; text-align: center; vertical-align: top\">0</td>\n",
       "    </tr>\n",
       "    <tr>\n",
       "        <td style=\"padding-left: 1em; padding-right: 1em; text-align: center; vertical-align: top\">5</td>\n",
       "        <td style=\"padding-left: 1em; padding-right: 1em; text-align: center; vertical-align: top\">75295</td>\n",
       "        <td style=\"padding-left: 1em; padding-right: 1em; text-align: center; vertical-align: top\">5</td>\n",
       "        <td style=\"padding-left: 1em; padding-right: 1em; text-align: center; vertical-align: top\">Paolo Guerrero</td>\n",
       "        <td style=\"padding-left: 1em; padding-right: 1em; text-align: center; vertical-align: top\">Flamengo</td>\n",
       "        <td style=\"padding-left: 1em; padding-right: 1em; text-align: center; vertical-align: top\">Atacante</td>\n",
       "        <td style=\"padding-left: 1em; padding-right: 1em; text-align: center; vertical-align: top\">9.4</td>\n",
       "        <td style=\"padding-left: 1em; padding-right: 1em; text-align: center; vertical-align: top\">Nulo</td>\n",
       "        <td style=\"padding-left: 1em; padding-right: 1em; text-align: center; vertical-align: top\">0</td>\n",
       "        <td style=\"padding-left: 1em; padding-right: 1em; text-align: center; vertical-align: top\">0</td>\n",
       "        <td style=\"padding-left: 1em; padding-right: 1em; text-align: center; vertical-align: top\">2</td>\n",
       "        <td style=\"padding-left: 1em; padding-right: 1em; text-align: center; vertical-align: top\">0</td>\n",
       "        <td style=\"padding-left: 1em; padding-right: 1em; text-align: center; vertical-align: top\">0</td>\n",
       "    </tr>\n",
       "    <tr>\n",
       "        <td style=\"padding-left: 1em; padding-right: 1em; text-align: center; vertical-align: top\">6</td>\n",
       "        <td style=\"padding-left: 1em; padding-right: 1em; text-align: center; vertical-align: top\">92081</td>\n",
       "        <td style=\"padding-left: 1em; padding-right: 1em; text-align: center; vertical-align: top\">6</td>\n",
       "        <td style=\"padding-left: 1em; padding-right: 1em; text-align: center; vertical-align: top\">Richarlison</td>\n",
       "        <td style=\"padding-left: 1em; padding-right: 1em; text-align: center; vertical-align: top\">Fluminense</td>\n",
       "        <td style=\"padding-left: 1em; padding-right: 1em; text-align: center; vertical-align: top\">Atacante</td>\n",
       "        <td style=\"padding-left: 1em; padding-right: 1em; text-align: center; vertical-align: top\">18.4</td>\n",
       "        <td style=\"padding-left: 1em; padding-right: 1em; text-align: center; vertical-align: top\">Nulo</td>\n",
       "        <td style=\"padding-left: 1em; padding-right: 1em; text-align: center; vertical-align: top\">1</td>\n",
       "        <td style=\"padding-left: 1em; padding-right: 1em; text-align: center; vertical-align: top\">0</td>\n",
       "        <td style=\"padding-left: 1em; padding-right: 1em; text-align: center; vertical-align: top\">2</td>\n",
       "        <td style=\"padding-left: 1em; padding-right: 1em; text-align: center; vertical-align: top\">0</td>\n",
       "        <td style=\"padding-left: 1em; padding-right: 1em; text-align: center; vertical-align: top\">0</td>\n",
       "    </tr>\n",
       "    <tr>\n",
       "        <td style=\"padding-left: 1em; padding-right: 1em; text-align: center; vertical-align: top\">7</td>\n",
       "        <td style=\"padding-left: 1em; padding-right: 1em; text-align: center; vertical-align: top\">38100</td>\n",
       "        <td style=\"padding-left: 1em; padding-right: 1em; text-align: center; vertical-align: top\">7</td>\n",
       "        <td style=\"padding-left: 1em; padding-right: 1em; text-align: center; vertical-align: top\">Durval</td>\n",
       "        <td style=\"padding-left: 1em; padding-right: 1em; text-align: center; vertical-align: top\">Sport</td>\n",
       "        <td style=\"padding-left: 1em; padding-right: 1em; text-align: center; vertical-align: top\">Zagueiro</td>\n",
       "        <td style=\"padding-left: 1em; padding-right: 1em; text-align: center; vertical-align: top\">2.2</td>\n",
       "        <td style=\"padding-left: 1em; padding-right: 1em; text-align: center; vertical-align: top\">Provável</td>\n",
       "        <td style=\"padding-left: 1em; padding-right: 1em; text-align: center; vertical-align: top\">0</td>\n",
       "        <td style=\"padding-left: 1em; padding-right: 1em; text-align: center; vertical-align: top\">0</td>\n",
       "        <td style=\"padding-left: 1em; padding-right: 1em; text-align: center; vertical-align: top\">0</td>\n",
       "        <td style=\"padding-left: 1em; padding-right: 1em; text-align: center; vertical-align: top\">0</td>\n",
       "        <td style=\"padding-left: 1em; padding-right: 1em; text-align: center; vertical-align: top\">0</td>\n",
       "    </tr>\n",
       "    <tr>\n",
       "        <td style=\"padding-left: 1em; padding-right: 1em; text-align: center; vertical-align: top\">10</td>\n",
       "        <td style=\"padding-left: 1em; padding-right: 1em; text-align: center; vertical-align: top\">50317</td>\n",
       "        <td style=\"padding-left: 1em; padding-right: 1em; text-align: center; vertical-align: top\">10</td>\n",
       "        <td style=\"padding-left: 1em; padding-right: 1em; text-align: center; vertical-align: top\">David Braz</td>\n",
       "        <td style=\"padding-left: 1em; padding-right: 1em; text-align: center; vertical-align: top\">Santos</td>\n",
       "        <td style=\"padding-left: 1em; padding-right: 1em; text-align: center; vertical-align: top\">Zagueiro</td>\n",
       "        <td style=\"padding-left: 1em; padding-right: 1em; text-align: center; vertical-align: top\">-1.2</td>\n",
       "        <td style=\"padding-left: 1em; padding-right: 1em; text-align: center; vertical-align: top\">Provável</td>\n",
       "        <td style=\"padding-left: 1em; padding-right: 1em; text-align: center; vertical-align: top\">0</td>\n",
       "        <td style=\"padding-left: 1em; padding-right: 1em; text-align: center; vertical-align: top\">0</td>\n",
       "        <td style=\"padding-left: 1em; padding-right: 1em; text-align: center; vertical-align: top\">0</td>\n",
       "        <td style=\"padding-left: 1em; padding-right: 1em; text-align: center; vertical-align: top\">0</td>\n",
       "        <td style=\"padding-left: 1em; padding-right: 1em; text-align: center; vertical-align: top\">0</td>\n",
       "    </tr>\n",
       "    <tr>\n",
       "        <td style=\"padding-left: 1em; padding-right: 1em; text-align: center; vertical-align: top\">11</td>\n",
       "        <td style=\"padding-left: 1em; padding-right: 1em; text-align: center; vertical-align: top\">37662</td>\n",
       "        <td style=\"padding-left: 1em; padding-right: 1em; text-align: center; vertical-align: top\">11</td>\n",
       "        <td style=\"padding-left: 1em; padding-right: 1em; text-align: center; vertical-align: top\">Jonathan</td>\n",
       "        <td style=\"padding-left: 1em; padding-right: 1em; text-align: center; vertical-align: top\">Atlético-PR</td>\n",
       "        <td style=\"padding-left: 1em; padding-right: 1em; text-align: center; vertical-align: top\">Lateral</td>\n",
       "        <td style=\"padding-left: 1em; padding-right: 1em; text-align: center; vertical-align: top\">5.8</td>\n",
       "        <td style=\"padding-left: 1em; padding-right: 1em; text-align: center; vertical-align: top\">Provável</td>\n",
       "        <td style=\"padding-left: 1em; padding-right: 1em; text-align: center; vertical-align: top\">0</td>\n",
       "        <td style=\"padding-left: 1em; padding-right: 1em; text-align: center; vertical-align: top\">0</td>\n",
       "        <td style=\"padding-left: 1em; padding-right: 1em; text-align: center; vertical-align: top\">0</td>\n",
       "        <td style=\"padding-left: 1em; padding-right: 1em; text-align: center; vertical-align: top\">0</td>\n",
       "        <td style=\"padding-left: 1em; padding-right: 1em; text-align: center; vertical-align: top\">0</td>\n",
       "    </tr>\n",
       "    <tr>\n",
       "        <td style=\"padding-left: 1em; padding-right: 1em; text-align: center; vertical-align: top\">12</td>\n",
       "        <td style=\"padding-left: 1em; padding-right: 1em; text-align: center; vertical-align: top\">38909</td>\n",
       "        <td style=\"padding-left: 1em; padding-right: 1em; text-align: center; vertical-align: top\">12</td>\n",
       "        <td style=\"padding-left: 1em; padding-right: 1em; text-align: center; vertical-align: top\">Diego</td>\n",
       "        <td style=\"padding-left: 1em; padding-right: 1em; text-align: center; vertical-align: top\">Flamengo</td>\n",
       "        <td style=\"padding-left: 1em; padding-right: 1em; text-align: center; vertical-align: top\">Meia</td>\n",
       "        <td style=\"padding-left: 1em; padding-right: 1em; text-align: center; vertical-align: top\">1.2</td>\n",
       "        <td style=\"padding-left: 1em; padding-right: 1em; text-align: center; vertical-align: top\">Provável</td>\n",
       "        <td style=\"padding-left: 1em; padding-right: 1em; text-align: center; vertical-align: top\">0</td>\n",
       "        <td style=\"padding-left: 1em; padding-right: 1em; text-align: center; vertical-align: top\">0</td>\n",
       "        <td style=\"padding-left: 1em; padding-right: 1em; text-align: center; vertical-align: top\">1</td>\n",
       "        <td style=\"padding-left: 1em; padding-right: 1em; text-align: center; vertical-align: top\">0</td>\n",
       "        <td style=\"padding-left: 1em; padding-right: 1em; text-align: center; vertical-align: top\">0</td>\n",
       "    </tr>\n",
       "    <tr>\n",
       "        <td style=\"padding-left: 1em; padding-right: 1em; text-align: center; vertical-align: top\">13</td>\n",
       "        <td style=\"padding-left: 1em; padding-right: 1em; text-align: center; vertical-align: top\">38140</td>\n",
       "        <td style=\"padding-left: 1em; padding-right: 1em; text-align: center; vertical-align: top\">13</td>\n",
       "        <td style=\"padding-left: 1em; padding-right: 1em; text-align: center; vertical-align: top\">Fernando Prass</td>\n",
       "        <td style=\"padding-left: 1em; padding-right: 1em; text-align: center; vertical-align: top\">Palmeiras</td>\n",
       "        <td style=\"padding-left: 1em; padding-right: 1em; text-align: center; vertical-align: top\">Goleiro</td>\n",
       "        <td style=\"padding-left: 1em; padding-right: 1em; text-align: center; vertical-align: top\">11.0</td>\n",
       "        <td style=\"padding-left: 1em; padding-right: 1em; text-align: center; vertical-align: top\">Provável</td>\n",
       "        <td style=\"padding-left: 1em; padding-right: 1em; text-align: center; vertical-align: top\">0</td>\n",
       "        <td style=\"padding-left: 1em; padding-right: 1em; text-align: center; vertical-align: top\">3</td>\n",
       "        <td style=\"padding-left: 1em; padding-right: 1em; text-align: center; vertical-align: top\">0</td>\n",
       "        <td style=\"padding-left: 1em; padding-right: 1em; text-align: center; vertical-align: top\">8</td>\n",
       "        <td style=\"padding-left: 1em; padding-right: 1em; text-align: center; vertical-align: top\">0</td>\n",
       "    </tr>\n",
       "    <tr>\n",
       "        <td style=\"padding-left: 1em; padding-right: 1em; text-align: center; vertical-align: top\">14</td>\n",
       "        <td style=\"padding-left: 1em; padding-right: 1em; text-align: center; vertical-align: top\">90061</td>\n",
       "        <td style=\"padding-left: 1em; padding-right: 1em; text-align: center; vertical-align: top\">14</td>\n",
       "        <td style=\"padding-left: 1em; padding-right: 1em; text-align: center; vertical-align: top\">Bruno Pacheco</td>\n",
       "        <td style=\"padding-left: 1em; padding-right: 1em; text-align: center; vertical-align: top\">Atlético-GO</td>\n",
       "        <td style=\"padding-left: 1em; padding-right: 1em; text-align: center; vertical-align: top\">Lateral</td>\n",
       "        <td style=\"padding-left: 1em; padding-right: 1em; text-align: center; vertical-align: top\">-2.6</td>\n",
       "        <td style=\"padding-left: 1em; padding-right: 1em; text-align: center; vertical-align: top\">Provável</td>\n",
       "        <td style=\"padding-left: 1em; padding-right: 1em; text-align: center; vertical-align: top\">1</td>\n",
       "        <td style=\"padding-left: 1em; padding-right: 1em; text-align: center; vertical-align: top\">0</td>\n",
       "        <td style=\"padding-left: 1em; padding-right: 1em; text-align: center; vertical-align: top\">0</td>\n",
       "        <td style=\"padding-left: 1em; padding-right: 1em; text-align: center; vertical-align: top\">0</td>\n",
       "        <td style=\"padding-left: 1em; padding-right: 1em; text-align: center; vertical-align: top\">0</td>\n",
       "    </tr>\n",
       "</table>\n",
       "<table frame=\"box\" rules=\"cols\">\n",
       "    <tr>\n",
       "        <th style=\"padding-left: 1em; padding-right: 1em; text-align: center\">DD</th>\n",
       "        <th style=\"padding-left: 1em; padding-right: 1em; text-align: center\">GS</th>\n",
       "        <th style=\"padding-left: 1em; padding-right: 1em; text-align: center\">PP</th>\n",
       "        <th style=\"padding-left: 1em; padding-right: 1em; text-align: center\">SG</th>\n",
       "        <th style=\"padding-left: 1em; padding-right: 1em; text-align: center\">CV</th>\n",
       "        <th style=\"padding-left: 1em; padding-right: 1em; text-align: center\">FT</th>\n",
       "        <th style=\"padding-left: 1em; padding-right: 1em; text-align: center\">A</th>\n",
       "        <th style=\"padding-left: 1em; padding-right: 1em; text-align: center\">PE</th>\n",
       "        <th style=\"padding-left: 1em; padding-right: 1em; text-align: center\">RB</th>\n",
       "        <th style=\"padding-left: 1em; padding-right: 1em; text-align: center\">DP</th>\n",
       "        <th style=\"padding-left: 1em; padding-right: 1em; text-align: center\">I</th>\n",
       "        <th style=\"padding-left: 1em; padding-right: 1em; text-align: center\">FF</th>\n",
       "        <th style=\"padding-left: 1em; padding-right: 1em; text-align: center\">R1</th>\n",
       "        <th style=\"padding-left: 1em; padding-right: 1em; text-align: center\">R2</th>\n",
       "    </tr>\n",
       "    <tr>\n",
       "        <td style=\"padding-left: 1em; padding-right: 1em; text-align: center; vertical-align: top\">0</td>\n",
       "        <td style=\"padding-left: 1em; padding-right: 1em; text-align: center; vertical-align: top\">4</td>\n",
       "        <td style=\"padding-left: 1em; padding-right: 1em; text-align: center; vertical-align: top\">0</td>\n",
       "        <td style=\"padding-left: 1em; padding-right: 1em; text-align: center; vertical-align: top\">1</td>\n",
       "        <td style=\"padding-left: 1em; padding-right: 1em; text-align: center; vertical-align: top\">0</td>\n",
       "        <td style=\"padding-left: 1em; padding-right: 1em; text-align: center; vertical-align: top\">2</td>\n",
       "        <td style=\"padding-left: 1em; padding-right: 1em; text-align: center; vertical-align: top\">1</td>\n",
       "        <td style=\"padding-left: 1em; padding-right: 1em; text-align: center; vertical-align: top\">0</td>\n",
       "        <td style=\"padding-left: 1em; padding-right: 1em; text-align: center; vertical-align: top\">5</td>\n",
       "        <td style=\"padding-left: 1em; padding-right: 1em; text-align: center; vertical-align: top\">0</td>\n",
       "        <td style=\"padding-left: 1em; padding-right: 1em; text-align: center; vertical-align: top\">0</td>\n",
       "        <td style=\"padding-left: 1em; padding-right: 1em; text-align: center; vertical-align: top\">4</td>\n",
       "        <td style=\"padding-left: 1em; padding-right: 1em; text-align: center; vertical-align: top\">&lt;cartolafc.models.Pontuac<br>aoInfo object at ...</td>\n",
       "        <td style=\"padding-left: 1em; padding-right: 1em; text-align: center; vertical-align: top\">&lt;cartolafc.models.Pontuac<br>aoInfo object at ...</td>\n",
       "    </tr>\n",
       "    <tr>\n",
       "        <td style=\"padding-left: 1em; padding-right: 1em; text-align: center; vertical-align: top\">1</td>\n",
       "        <td style=\"padding-left: 1em; padding-right: 1em; text-align: center; vertical-align: top\">1</td>\n",
       "        <td style=\"padding-left: 1em; padding-right: 1em; text-align: center; vertical-align: top\">0</td>\n",
       "        <td style=\"padding-left: 1em; padding-right: 1em; text-align: center; vertical-align: top\">0</td>\n",
       "        <td style=\"padding-left: 1em; padding-right: 1em; text-align: center; vertical-align: top\">0</td>\n",
       "        <td style=\"padding-left: 1em; padding-right: 1em; text-align: center; vertical-align: top\">0</td>\n",
       "        <td style=\"padding-left: 1em; padding-right: 1em; text-align: center; vertical-align: top\">10</td>\n",
       "        <td style=\"padding-left: 1em; padding-right: 1em; text-align: center; vertical-align: top\">3</td>\n",
       "        <td style=\"padding-left: 1em; padding-right: 1em; text-align: center; vertical-align: top\">6</td>\n",
       "        <td style=\"padding-left: 1em; padding-right: 1em; text-align: center; vertical-align: top\">0</td>\n",
       "        <td style=\"padding-left: 1em; padding-right: 1em; text-align: center; vertical-align: top\">2</td>\n",
       "        <td style=\"padding-left: 1em; padding-right: 1em; text-align: center; vertical-align: top\">3</td>\n",
       "        <td style=\"padding-left: 1em; padding-right: 1em; text-align: center; vertical-align: top\">&lt;cartolafc.models.Pontuac<br>aoInfo object at ...</td>\n",
       "        <td style=\"padding-left: 1em; padding-right: 1em; text-align: center; vertical-align: top\">&lt;cartolafc.models.Pontuac<br>aoInfo object at ...</td>\n",
       "    </tr>\n",
       "    <tr>\n",
       "        <td style=\"padding-left: 1em; padding-right: 1em; text-align: center; vertical-align: top\">0</td>\n",
       "        <td style=\"padding-left: 1em; padding-right: 1em; text-align: center; vertical-align: top\">4</td>\n",
       "        <td style=\"padding-left: 1em; padding-right: 1em; text-align: center; vertical-align: top\">0</td>\n",
       "        <td style=\"padding-left: 1em; padding-right: 1em; text-align: center; vertical-align: top\">0</td>\n",
       "        <td style=\"padding-left: 1em; padding-right: 1em; text-align: center; vertical-align: top\">0</td>\n",
       "        <td style=\"padding-left: 1em; padding-right: 1em; text-align: center; vertical-align: top\">0</td>\n",
       "        <td style=\"padding-left: 1em; padding-right: 1em; text-align: center; vertical-align: top\">7</td>\n",
       "        <td style=\"padding-left: 1em; padding-right: 1em; text-align: center; vertical-align: top\">3</td>\n",
       "        <td style=\"padding-left: 1em; padding-right: 1em; text-align: center; vertical-align: top\">6</td>\n",
       "        <td style=\"padding-left: 1em; padding-right: 1em; text-align: center; vertical-align: top\">0</td>\n",
       "        <td style=\"padding-left: 1em; padding-right: 1em; text-align: center; vertical-align: top\">6</td>\n",
       "        <td style=\"padding-left: 1em; padding-right: 1em; text-align: center; vertical-align: top\">3</td>\n",
       "        <td style=\"padding-left: 1em; padding-right: 1em; text-align: center; vertical-align: top\">&lt;cartolafc.models.Pontuac<br>aoInfo object at ...</td>\n",
       "        <td style=\"padding-left: 1em; padding-right: 1em; text-align: center; vertical-align: top\">&lt;cartolafc.models.Pontuac<br>aoInfo object at ...</td>\n",
       "    </tr>\n",
       "    <tr>\n",
       "        <td style=\"padding-left: 1em; padding-right: 1em; text-align: center; vertical-align: top\">2</td>\n",
       "        <td style=\"padding-left: 1em; padding-right: 1em; text-align: center; vertical-align: top\">7</td>\n",
       "        <td style=\"padding-left: 1em; padding-right: 1em; text-align: center; vertical-align: top\">0</td>\n",
       "        <td style=\"padding-left: 1em; padding-right: 1em; text-align: center; vertical-align: top\">1</td>\n",
       "        <td style=\"padding-left: 1em; padding-right: 1em; text-align: center; vertical-align: top\">0</td>\n",
       "        <td style=\"padding-left: 1em; padding-right: 1em; text-align: center; vertical-align: top\">0</td>\n",
       "        <td style=\"padding-left: 1em; padding-right: 1em; text-align: center; vertical-align: top\">9</td>\n",
       "        <td style=\"padding-left: 1em; padding-right: 1em; text-align: center; vertical-align: top\">6</td>\n",
       "        <td style=\"padding-left: 1em; padding-right: 1em; text-align: center; vertical-align: top\">10</td>\n",
       "        <td style=\"padding-left: 1em; padding-right: 1em; text-align: center; vertical-align: top\">0</td>\n",
       "        <td style=\"padding-left: 1em; padding-right: 1em; text-align: center; vertical-align: top\">3</td>\n",
       "        <td style=\"padding-left: 1em; padding-right: 1em; text-align: center; vertical-align: top\">7</td>\n",
       "        <td style=\"padding-left: 1em; padding-right: 1em; text-align: center; vertical-align: top\">&lt;cartolafc.models.Pontuac<br>aoInfo object at ...</td>\n",
       "        <td style=\"padding-left: 1em; padding-right: 1em; text-align: center; vertical-align: top\">&lt;cartolafc.models.Pontuac<br>aoInfo object at ...</td>\n",
       "    </tr>\n",
       "    <tr>\n",
       "        <td style=\"padding-left: 1em; padding-right: 1em; text-align: center; vertical-align: top\">0</td>\n",
       "        <td style=\"padding-left: 1em; padding-right: 1em; text-align: center; vertical-align: top\">2</td>\n",
       "        <td style=\"padding-left: 1em; padding-right: 1em; text-align: center; vertical-align: top\">0</td>\n",
       "        <td style=\"padding-left: 1em; padding-right: 1em; text-align: center; vertical-align: top\">0</td>\n",
       "        <td style=\"padding-left: 1em; padding-right: 1em; text-align: center; vertical-align: top\">0</td>\n",
       "        <td style=\"padding-left: 1em; padding-right: 1em; text-align: center; vertical-align: top\">0</td>\n",
       "        <td style=\"padding-left: 1em; padding-right: 1em; text-align: center; vertical-align: top\">1</td>\n",
       "        <td style=\"padding-left: 1em; padding-right: 1em; text-align: center; vertical-align: top\">0</td>\n",
       "        <td style=\"padding-left: 1em; padding-right: 1em; text-align: center; vertical-align: top\">0</td>\n",
       "        <td style=\"padding-left: 1em; padding-right: 1em; text-align: center; vertical-align: top\">0</td>\n",
       "        <td style=\"padding-left: 1em; padding-right: 1em; text-align: center; vertical-align: top\">0</td>\n",
       "        <td style=\"padding-left: 1em; padding-right: 1em; text-align: center; vertical-align: top\">2</td>\n",
       "        <td style=\"padding-left: 1em; padding-right: 1em; text-align: center; vertical-align: top\">&lt;cartolafc.models.Pontuac<br>aoInfo object at ...</td>\n",
       "        <td style=\"padding-left: 1em; padding-right: 1em; text-align: center; vertical-align: top\">&lt;cartolafc.models.Pontuac<br>aoInfo object at ...</td>\n",
       "    </tr>\n",
       "    <tr>\n",
       "        <td style=\"padding-left: 1em; padding-right: 1em; text-align: center; vertical-align: top\">1</td>\n",
       "        <td style=\"padding-left: 1em; padding-right: 1em; text-align: center; vertical-align: top\">2</td>\n",
       "        <td style=\"padding-left: 1em; padding-right: 1em; text-align: center; vertical-align: top\">0</td>\n",
       "        <td style=\"padding-left: 1em; padding-right: 1em; text-align: center; vertical-align: top\">1</td>\n",
       "        <td style=\"padding-left: 1em; padding-right: 1em; text-align: center; vertical-align: top\">0</td>\n",
       "        <td style=\"padding-left: 1em; padding-right: 1em; text-align: center; vertical-align: top\">1</td>\n",
       "        <td style=\"padding-left: 1em; padding-right: 1em; text-align: center; vertical-align: top\">1</td>\n",
       "        <td style=\"padding-left: 1em; padding-right: 1em; text-align: center; vertical-align: top\">0</td>\n",
       "        <td style=\"padding-left: 1em; padding-right: 1em; text-align: center; vertical-align: top\">2</td>\n",
       "        <td style=\"padding-left: 1em; padding-right: 1em; text-align: center; vertical-align: top\">0</td>\n",
       "        <td style=\"padding-left: 1em; padding-right: 1em; text-align: center; vertical-align: top\">1</td>\n",
       "        <td style=\"padding-left: 1em; padding-right: 1em; text-align: center; vertical-align: top\">12</td>\n",
       "        <td style=\"padding-left: 1em; padding-right: 1em; text-align: center; vertical-align: top\">&lt;cartolafc.models.Pontuac<br>aoInfo object at ...</td>\n",
       "        <td style=\"padding-left: 1em; padding-right: 1em; text-align: center; vertical-align: top\">&lt;cartolafc.models.Pontuac<br>aoInfo object at ...</td>\n",
       "    </tr>\n",
       "    <tr>\n",
       "        <td style=\"padding-left: 1em; padding-right: 1em; text-align: center; vertical-align: top\">0</td>\n",
       "        <td style=\"padding-left: 1em; padding-right: 1em; text-align: center; vertical-align: top\">6</td>\n",
       "        <td style=\"padding-left: 1em; padding-right: 1em; text-align: center; vertical-align: top\">0</td>\n",
       "        <td style=\"padding-left: 1em; padding-right: 1em; text-align: center; vertical-align: top\">0</td>\n",
       "        <td style=\"padding-left: 1em; padding-right: 1em; text-align: center; vertical-align: top\">0</td>\n",
       "        <td style=\"padding-left: 1em; padding-right: 1em; text-align: center; vertical-align: top\">0</td>\n",
       "        <td style=\"padding-left: 1em; padding-right: 1em; text-align: center; vertical-align: top\">4</td>\n",
       "        <td style=\"padding-left: 1em; padding-right: 1em; text-align: center; vertical-align: top\">0</td>\n",
       "        <td style=\"padding-left: 1em; padding-right: 1em; text-align: center; vertical-align: top\">0</td>\n",
       "        <td style=\"padding-left: 1em; padding-right: 1em; text-align: center; vertical-align: top\">0</td>\n",
       "        <td style=\"padding-left: 1em; padding-right: 1em; text-align: center; vertical-align: top\">0</td>\n",
       "        <td style=\"padding-left: 1em; padding-right: 1em; text-align: center; vertical-align: top\">13</td>\n",
       "        <td style=\"padding-left: 1em; padding-right: 1em; text-align: center; vertical-align: top\">&lt;cartolafc.models.Pontuac<br>aoInfo object at ...</td>\n",
       "        <td style=\"padding-left: 1em; padding-right: 1em; text-align: center; vertical-align: top\">&lt;cartolafc.models.Pontuac<br>aoInfo object at ...</td>\n",
       "    </tr>\n",
       "    <tr>\n",
       "        <td style=\"padding-left: 1em; padding-right: 1em; text-align: center; vertical-align: top\">0</td>\n",
       "        <td style=\"padding-left: 1em; padding-right: 1em; text-align: center; vertical-align: top\">0</td>\n",
       "        <td style=\"padding-left: 1em; padding-right: 1em; text-align: center; vertical-align: top\">0</td>\n",
       "        <td style=\"padding-left: 1em; padding-right: 1em; text-align: center; vertical-align: top\">0</td>\n",
       "        <td style=\"padding-left: 1em; padding-right: 1em; text-align: center; vertical-align: top\">0</td>\n",
       "        <td style=\"padding-left: 1em; padding-right: 1em; text-align: center; vertical-align: top\">0</td>\n",
       "        <td style=\"padding-left: 1em; padding-right: 1em; text-align: center; vertical-align: top\">2</td>\n",
       "        <td style=\"padding-left: 1em; padding-right: 1em; text-align: center; vertical-align: top\">0</td>\n",
       "        <td style=\"padding-left: 1em; padding-right: 1em; text-align: center; vertical-align: top\">1</td>\n",
       "        <td style=\"padding-left: 1em; padding-right: 1em; text-align: center; vertical-align: top\">0</td>\n",
       "        <td style=\"padding-left: 1em; padding-right: 1em; text-align: center; vertical-align: top\">0</td>\n",
       "        <td style=\"padding-left: 1em; padding-right: 1em; text-align: center; vertical-align: top\">1</td>\n",
       "        <td style=\"padding-left: 1em; padding-right: 1em; text-align: center; vertical-align: top\">&lt;cartolafc.models.Pontuac<br>aoInfo object at ...</td>\n",
       "        <td style=\"padding-left: 1em; padding-right: 1em; text-align: center; vertical-align: top\">&lt;cartolafc.models.Pontuac<br>aoInfo object at ...</td>\n",
       "    </tr>\n",
       "    <tr>\n",
       "        <td style=\"padding-left: 1em; padding-right: 1em; text-align: center; vertical-align: top\">0</td>\n",
       "        <td style=\"padding-left: 1em; padding-right: 1em; text-align: center; vertical-align: top\">0</td>\n",
       "        <td style=\"padding-left: 1em; padding-right: 1em; text-align: center; vertical-align: top\">0</td>\n",
       "        <td style=\"padding-left: 1em; padding-right: 1em; text-align: center; vertical-align: top\">0</td>\n",
       "        <td style=\"padding-left: 1em; padding-right: 1em; text-align: center; vertical-align: top\">0</td>\n",
       "        <td style=\"padding-left: 1em; padding-right: 1em; text-align: center; vertical-align: top\">2</td>\n",
       "        <td style=\"padding-left: 1em; padding-right: 1em; text-align: center; vertical-align: top\">1</td>\n",
       "        <td style=\"padding-left: 1em; padding-right: 1em; text-align: center; vertical-align: top\">0</td>\n",
       "        <td style=\"padding-left: 1em; padding-right: 1em; text-align: center; vertical-align: top\">0</td>\n",
       "        <td style=\"padding-left: 1em; padding-right: 1em; text-align: center; vertical-align: top\">0</td>\n",
       "        <td style=\"padding-left: 1em; padding-right: 1em; text-align: center; vertical-align: top\">0</td>\n",
       "        <td style=\"padding-left: 1em; padding-right: 1em; text-align: center; vertical-align: top\">1</td>\n",
       "        <td style=\"padding-left: 1em; padding-right: 1em; text-align: center; vertical-align: top\">&lt;cartolafc.models.Pontuac<br>aoInfo object at ...</td>\n",
       "        <td style=\"padding-left: 1em; padding-right: 1em; text-align: center; vertical-align: top\">&lt;cartolafc.models.Pontuac<br>aoInfo object at ...</td>\n",
       "    </tr>\n",
       "    <tr>\n",
       "        <td style=\"padding-left: 1em; padding-right: 1em; text-align: center; vertical-align: top\">0</td>\n",
       "        <td style=\"padding-left: 1em; padding-right: 1em; text-align: center; vertical-align: top\">5</td>\n",
       "        <td style=\"padding-left: 1em; padding-right: 1em; text-align: center; vertical-align: top\">0</td>\n",
       "        <td style=\"padding-left: 1em; padding-right: 1em; text-align: center; vertical-align: top\">1</td>\n",
       "        <td style=\"padding-left: 1em; padding-right: 1em; text-align: center; vertical-align: top\">0</td>\n",
       "        <td style=\"padding-left: 1em; padding-right: 1em; text-align: center; vertical-align: top\">0</td>\n",
       "        <td style=\"padding-left: 1em; padding-right: 1em; text-align: center; vertical-align: top\">7</td>\n",
       "        <td style=\"padding-left: 1em; padding-right: 1em; text-align: center; vertical-align: top\">0</td>\n",
       "        <td style=\"padding-left: 1em; padding-right: 1em; text-align: center; vertical-align: top\">6</td>\n",
       "        <td style=\"padding-left: 1em; padding-right: 1em; text-align: center; vertical-align: top\">0</td>\n",
       "        <td style=\"padding-left: 1em; padding-right: 1em; text-align: center; vertical-align: top\">0</td>\n",
       "        <td style=\"padding-left: 1em; padding-right: 1em; text-align: center; vertical-align: top\">9</td>\n",
       "        <td style=\"padding-left: 1em; padding-right: 1em; text-align: center; vertical-align: top\">&lt;cartolafc.models.Pontuac<br>aoInfo object at ...</td>\n",
       "        <td style=\"padding-left: 1em; padding-right: 1em; text-align: center; vertical-align: top\">&lt;cartolafc.models.Pontuac<br>aoInfo object at ...</td>\n",
       "    </tr>\n",
       "</table>\n",
       "<table frame=\"box\" rules=\"cols\">\n",
       "    <tr>\n",
       "        <th style=\"padding-left: 1em; padding-right: 1em; text-align: center\">R3</th>\n",
       "        <th style=\"padding-left: 1em; padding-right: 1em; text-align: center\">R4</th>\n",
       "        <th style=\"padding-left: 1em; padding-right: 1em; text-align: center\">R5</th>\n",
       "        <th style=\"padding-left: 1em; padding-right: 1em; text-align: center\">R6</th>\n",
       "    </tr>\n",
       "    <tr>\n",
       "        <td style=\"padding-left: 1em; padding-right: 1em; text-align: center; vertical-align: top\">&lt;cartolafc.models.Pontuac<br>aoInfo object at ...</td>\n",
       "        <td style=\"padding-left: 1em; padding-right: 1em; text-align: center; vertical-align: top\">&lt;cartolafc.models.Pontuac<br>aoInfo object at ...</td>\n",
       "        <td style=\"padding-left: 1em; padding-right: 1em; text-align: center; vertical-align: top\">&lt;cartolafc.models.Pontuac<br>aoInfo object at ...</td>\n",
       "        <td style=\"padding-left: 1em; padding-right: 1em; text-align: center; vertical-align: top\">&lt;cartolafc.models.Pontuac<br>aoInfo object at ...</td>\n",
       "    </tr>\n",
       "    <tr>\n",
       "        <td style=\"padding-left: 1em; padding-right: 1em; text-align: center; vertical-align: top\">&lt;cartolafc.models.Pontuac<br>aoInfo object at ...</td>\n",
       "        <td style=\"padding-left: 1em; padding-right: 1em; text-align: center; vertical-align: top\">&lt;cartolafc.models.Pontuac<br>aoInfo object at ...</td>\n",
       "        <td style=\"padding-left: 1em; padding-right: 1em; text-align: center; vertical-align: top\">&lt;cartolafc.models.Pontuac<br>aoInfo object at ...</td>\n",
       "        <td style=\"padding-left: 1em; padding-right: 1em; text-align: center; vertical-align: top\">&lt;cartolafc.models.Pontuac<br>aoInfo object at ...</td>\n",
       "    </tr>\n",
       "    <tr>\n",
       "        <td style=\"padding-left: 1em; padding-right: 1em; text-align: center; vertical-align: top\">&lt;cartolafc.models.Pontuac<br>aoInfo object at ...</td>\n",
       "        <td style=\"padding-left: 1em; padding-right: 1em; text-align: center; vertical-align: top\">&lt;cartolafc.models.Pontuac<br>aoInfo object at ...</td>\n",
       "        <td style=\"padding-left: 1em; padding-right: 1em; text-align: center; vertical-align: top\">&lt;cartolafc.models.Pontuac<br>aoInfo object at ...</td>\n",
       "        <td style=\"padding-left: 1em; padding-right: 1em; text-align: center; vertical-align: top\">&lt;cartolafc.models.Pontuac<br>aoInfo object at ...</td>\n",
       "    </tr>\n",
       "    <tr>\n",
       "        <td style=\"padding-left: 1em; padding-right: 1em; text-align: center; vertical-align: top\">&lt;cartolafc.models.Pontuac<br>aoInfo object at ...</td>\n",
       "        <td style=\"padding-left: 1em; padding-right: 1em; text-align: center; vertical-align: top\">&lt;cartolafc.models.Pontuac<br>aoInfo object at ...</td>\n",
       "        <td style=\"padding-left: 1em; padding-right: 1em; text-align: center; vertical-align: top\">&lt;cartolafc.models.Pontuac<br>aoInfo object at ...</td>\n",
       "        <td style=\"padding-left: 1em; padding-right: 1em; text-align: center; vertical-align: top\">&lt;cartolafc.models.Pontuac<br>aoInfo object at ...</td>\n",
       "    </tr>\n",
       "    <tr>\n",
       "        <td style=\"padding-left: 1em; padding-right: 1em; text-align: center; vertical-align: top\">&lt;cartolafc.models.Pontuac<br>aoInfo object at ...</td>\n",
       "        <td style=\"padding-left: 1em; padding-right: 1em; text-align: center; vertical-align: top\">&lt;cartolafc.models.Pontuac<br>aoInfo object at ...</td>\n",
       "        <td style=\"padding-left: 1em; padding-right: 1em; text-align: center; vertical-align: top\">&lt;cartolafc.models.Pontuac<br>aoInfo object at ...</td>\n",
       "        <td style=\"padding-left: 1em; padding-right: 1em; text-align: center; vertical-align: top\">&lt;cartolafc.models.Pontuac<br>aoInfo object at ...</td>\n",
       "    </tr>\n",
       "    <tr>\n",
       "        <td style=\"padding-left: 1em; padding-right: 1em; text-align: center; vertical-align: top\">&lt;cartolafc.models.Pontuac<br>aoInfo object at ...</td>\n",
       "        <td style=\"padding-left: 1em; padding-right: 1em; text-align: center; vertical-align: top\">&lt;cartolafc.models.Pontuac<br>aoInfo object at ...</td>\n",
       "        <td style=\"padding-left: 1em; padding-right: 1em; text-align: center; vertical-align: top\">&lt;cartolafc.models.Pontuac<br>aoInfo object at ...</td>\n",
       "        <td style=\"padding-left: 1em; padding-right: 1em; text-align: center; vertical-align: top\">&lt;cartolafc.models.Pontuac<br>aoInfo object at ...</td>\n",
       "    </tr>\n",
       "    <tr>\n",
       "        <td style=\"padding-left: 1em; padding-right: 1em; text-align: center; vertical-align: top\">&lt;cartolafc.models.Pontuac<br>aoInfo object at ...</td>\n",
       "        <td style=\"padding-left: 1em; padding-right: 1em; text-align: center; vertical-align: top\">&lt;cartolafc.models.Pontuac<br>aoInfo object at ...</td>\n",
       "        <td style=\"padding-left: 1em; padding-right: 1em; text-align: center; vertical-align: top\">&lt;cartolafc.models.Pontuac<br>aoInfo object at ...</td>\n",
       "        <td style=\"padding-left: 1em; padding-right: 1em; text-align: center; vertical-align: top\">&lt;cartolafc.models.Pontuac<br>aoInfo object at ...</td>\n",
       "    </tr>\n",
       "    <tr>\n",
       "        <td style=\"padding-left: 1em; padding-right: 1em; text-align: center; vertical-align: top\">&lt;cartolafc.models.Pontuac<br>aoInfo object at ...</td>\n",
       "        <td style=\"padding-left: 1em; padding-right: 1em; text-align: center; vertical-align: top\">&lt;cartolafc.models.Pontuac<br>aoInfo object at ...</td>\n",
       "        <td style=\"padding-left: 1em; padding-right: 1em; text-align: center; vertical-align: top\">&lt;cartolafc.models.Pontuac<br>aoInfo object at ...</td>\n",
       "        <td style=\"padding-left: 1em; padding-right: 1em; text-align: center; vertical-align: top\">&lt;cartolafc.models.Pontuac<br>aoInfo object at ...</td>\n",
       "    </tr>\n",
       "    <tr>\n",
       "        <td style=\"padding-left: 1em; padding-right: 1em; text-align: center; vertical-align: top\">&lt;cartolafc.models.Pontuac<br>aoInfo object at ...</td>\n",
       "        <td style=\"padding-left: 1em; padding-right: 1em; text-align: center; vertical-align: top\">&lt;cartolafc.models.Pontuac<br>aoInfo object at ...</td>\n",
       "        <td style=\"padding-left: 1em; padding-right: 1em; text-align: center; vertical-align: top\">&lt;cartolafc.models.Pontuac<br>aoInfo object at ...</td>\n",
       "        <td style=\"padding-left: 1em; padding-right: 1em; text-align: center; vertical-align: top\">&lt;cartolafc.models.Pontuac<br>aoInfo object at ...</td>\n",
       "    </tr>\n",
       "    <tr>\n",
       "        <td style=\"padding-left: 1em; padding-right: 1em; text-align: center; vertical-align: top\">&lt;cartolafc.models.Pontuac<br>aoInfo object at ...</td>\n",
       "        <td style=\"padding-left: 1em; padding-right: 1em; text-align: center; vertical-align: top\">&lt;cartolafc.models.Pontuac<br>aoInfo object at ...</td>\n",
       "        <td style=\"padding-left: 1em; padding-right: 1em; text-align: center; vertical-align: top\">&lt;cartolafc.models.Pontuac<br>aoInfo object at ...</td>\n",
       "        <td style=\"padding-left: 1em; padding-right: 1em; text-align: center; vertical-align: top\">&lt;cartolafc.models.Pontuac<br>aoInfo object at ...</td>\n",
       "    </tr>\n",
       "</table>\n",
       "<table frame=\"box\" rules=\"cols\">\n",
       "    <tr>\n",
       "        <th style=\"padding-left: 1em; padding-right: 1em; text-align: center\">R7</th>\n",
       "        <th style=\"padding-left: 1em; padding-right: 1em; text-align: center\">R8</th>\n",
       "        <th style=\"padding-left: 1em; padding-right: 1em; text-align: center\">R9</th>\n",
       "        <th style=\"padding-left: 1em; padding-right: 1em; text-align: center\">R10</th>\n",
       "    </tr>\n",
       "    <tr>\n",
       "        <td style=\"padding-left: 1em; padding-right: 1em; text-align: center; vertical-align: top\">&lt;cartolafc.models.Pontuac<br>aoInfo object at ...</td>\n",
       "        <td style=\"padding-left: 1em; padding-right: 1em; text-align: center; vertical-align: top\">&lt;cartolafc.models.Pontuac<br>aoInfo object at ...</td>\n",
       "        <td style=\"padding-left: 1em; padding-right: 1em; text-align: center; vertical-align: top\">&lt;cartolafc.models.Pontuac<br>aoInfo object at ...</td>\n",
       "        <td style=\"padding-left: 1em; padding-right: 1em; text-align: center; vertical-align: top\">&lt;cartolafc.models.Pontuac<br>aoInfo object at ...</td>\n",
       "    </tr>\n",
       "    <tr>\n",
       "        <td style=\"padding-left: 1em; padding-right: 1em; text-align: center; vertical-align: top\">&lt;cartolafc.models.Pontuac<br>aoInfo object at ...</td>\n",
       "        <td style=\"padding-left: 1em; padding-right: 1em; text-align: center; vertical-align: top\">&lt;cartolafc.models.Pontuac<br>aoInfo object at ...</td>\n",
       "        <td style=\"padding-left: 1em; padding-right: 1em; text-align: center; vertical-align: top\">&lt;cartolafc.models.Pontuac<br>aoInfo object at ...</td>\n",
       "        <td style=\"padding-left: 1em; padding-right: 1em; text-align: center; vertical-align: top\">&lt;cartolafc.models.Pontuac<br>aoInfo object at ...</td>\n",
       "    </tr>\n",
       "    <tr>\n",
       "        <td style=\"padding-left: 1em; padding-right: 1em; text-align: center; vertical-align: top\">&lt;cartolafc.models.Pontuac<br>aoInfo object at ...</td>\n",
       "        <td style=\"padding-left: 1em; padding-right: 1em; text-align: center; vertical-align: top\">&lt;cartolafc.models.Pontuac<br>aoInfo object at ...</td>\n",
       "        <td style=\"padding-left: 1em; padding-right: 1em; text-align: center; vertical-align: top\">&lt;cartolafc.models.Pontuac<br>aoInfo object at ...</td>\n",
       "        <td style=\"padding-left: 1em; padding-right: 1em; text-align: center; vertical-align: top\">&lt;cartolafc.models.Pontuac<br>aoInfo object at ...</td>\n",
       "    </tr>\n",
       "    <tr>\n",
       "        <td style=\"padding-left: 1em; padding-right: 1em; text-align: center; vertical-align: top\">&lt;cartolafc.models.Pontuac<br>aoInfo object at ...</td>\n",
       "        <td style=\"padding-left: 1em; padding-right: 1em; text-align: center; vertical-align: top\">&lt;cartolafc.models.Pontuac<br>aoInfo object at ...</td>\n",
       "        <td style=\"padding-left: 1em; padding-right: 1em; text-align: center; vertical-align: top\">&lt;cartolafc.models.Pontuac<br>aoInfo object at ...</td>\n",
       "        <td style=\"padding-left: 1em; padding-right: 1em; text-align: center; vertical-align: top\">&lt;cartolafc.models.Pontuac<br>aoInfo object at ...</td>\n",
       "    </tr>\n",
       "    <tr>\n",
       "        <td style=\"padding-left: 1em; padding-right: 1em; text-align: center; vertical-align: top\">&lt;cartolafc.models.Pontuac<br>aoInfo object at ...</td>\n",
       "        <td style=\"padding-left: 1em; padding-right: 1em; text-align: center; vertical-align: top\">&lt;cartolafc.models.Pontuac<br>aoInfo object at ...</td>\n",
       "        <td style=\"padding-left: 1em; padding-right: 1em; text-align: center; vertical-align: top\">&lt;cartolafc.models.Pontuac<br>aoInfo object at ...</td>\n",
       "        <td style=\"padding-left: 1em; padding-right: 1em; text-align: center; vertical-align: top\">&lt;cartolafc.models.Pontuac<br>aoInfo object at ...</td>\n",
       "    </tr>\n",
       "    <tr>\n",
       "        <td style=\"padding-left: 1em; padding-right: 1em; text-align: center; vertical-align: top\">&lt;cartolafc.models.Pontuac<br>aoInfo object at ...</td>\n",
       "        <td style=\"padding-left: 1em; padding-right: 1em; text-align: center; vertical-align: top\">&lt;cartolafc.models.Pontuac<br>aoInfo object at ...</td>\n",
       "        <td style=\"padding-left: 1em; padding-right: 1em; text-align: center; vertical-align: top\">&lt;cartolafc.models.Pontuac<br>aoInfo object at ...</td>\n",
       "        <td style=\"padding-left: 1em; padding-right: 1em; text-align: center; vertical-align: top\">&lt;cartolafc.models.Pontuac<br>aoInfo object at ...</td>\n",
       "    </tr>\n",
       "    <tr>\n",
       "        <td style=\"padding-left: 1em; padding-right: 1em; text-align: center; vertical-align: top\">&lt;cartolafc.models.Pontuac<br>aoInfo object at ...</td>\n",
       "        <td style=\"padding-left: 1em; padding-right: 1em; text-align: center; vertical-align: top\">&lt;cartolafc.models.Pontuac<br>aoInfo object at ...</td>\n",
       "        <td style=\"padding-left: 1em; padding-right: 1em; text-align: center; vertical-align: top\">&lt;cartolafc.models.Pontuac<br>aoInfo object at ...</td>\n",
       "        <td style=\"padding-left: 1em; padding-right: 1em; text-align: center; vertical-align: top\">&lt;cartolafc.models.Pontuac<br>aoInfo object at ...</td>\n",
       "    </tr>\n",
       "    <tr>\n",
       "        <td style=\"padding-left: 1em; padding-right: 1em; text-align: center; vertical-align: top\">&lt;cartolafc.models.Pontuac<br>aoInfo object at ...</td>\n",
       "        <td style=\"padding-left: 1em; padding-right: 1em; text-align: center; vertical-align: top\">&lt;cartolafc.models.Pontuac<br>aoInfo object at ...</td>\n",
       "        <td style=\"padding-left: 1em; padding-right: 1em; text-align: center; vertical-align: top\">&lt;cartolafc.models.Pontuac<br>aoInfo object at ...</td>\n",
       "        <td style=\"padding-left: 1em; padding-right: 1em; text-align: center; vertical-align: top\">&lt;cartolafc.models.Pontuac<br>aoInfo object at ...</td>\n",
       "    </tr>\n",
       "    <tr>\n",
       "        <td style=\"padding-left: 1em; padding-right: 1em; text-align: center; vertical-align: top\">&lt;cartolafc.models.Pontuac<br>aoInfo object at ...</td>\n",
       "        <td style=\"padding-left: 1em; padding-right: 1em; text-align: center; vertical-align: top\">&lt;cartolafc.models.Pontuac<br>aoInfo object at ...</td>\n",
       "        <td style=\"padding-left: 1em; padding-right: 1em; text-align: center; vertical-align: top\">&lt;cartolafc.models.Pontuac<br>aoInfo object at ...</td>\n",
       "        <td style=\"padding-left: 1em; padding-right: 1em; text-align: center; vertical-align: top\">&lt;cartolafc.models.Pontuac<br>aoInfo object at ...</td>\n",
       "    </tr>\n",
       "    <tr>\n",
       "        <td style=\"padding-left: 1em; padding-right: 1em; text-align: center; vertical-align: top\">&lt;cartolafc.models.Pontuac<br>aoInfo object at ...</td>\n",
       "        <td style=\"padding-left: 1em; padding-right: 1em; text-align: center; vertical-align: top\">&lt;cartolafc.models.Pontuac<br>aoInfo object at ...</td>\n",
       "        <td style=\"padding-left: 1em; padding-right: 1em; text-align: center; vertical-align: top\">&lt;cartolafc.models.Pontuac<br>aoInfo object at ...</td>\n",
       "        <td style=\"padding-left: 1em; padding-right: 1em; text-align: center; vertical-align: top\">&lt;cartolafc.models.Pontuac<br>aoInfo object at ...</td>\n",
       "    </tr>\n",
       "</table>\n",
       "<table frame=\"box\" rules=\"cols\">\n",
       "    <tr>\n",
       "        <th style=\"padding-left: 1em; padding-right: 1em; text-align: center\">R11</th>\n",
       "        <th style=\"padding-left: 1em; padding-right: 1em; text-align: center\">R12</th>\n",
       "    </tr>\n",
       "    <tr>\n",
       "        <td style=\"padding-left: 1em; padding-right: 1em; text-align: center; vertical-align: top\">&lt;cartolafc.models.Pontuac<br>aoInfo object at ...</td>\n",
       "        <td style=\"padding-left: 1em; padding-right: 1em; text-align: center; vertical-align: top\">&lt;cartolafc.models.Pontuac<br>aoInfo object at ...</td>\n",
       "    </tr>\n",
       "    <tr>\n",
       "        <td style=\"padding-left: 1em; padding-right: 1em; text-align: center; vertical-align: top\">&lt;cartolafc.models.Pontuac<br>aoInfo object at ...</td>\n",
       "        <td style=\"padding-left: 1em; padding-right: 1em; text-align: center; vertical-align: top\">&lt;cartolafc.models.Pontuac<br>aoInfo object at ...</td>\n",
       "    </tr>\n",
       "    <tr>\n",
       "        <td style=\"padding-left: 1em; padding-right: 1em; text-align: center; vertical-align: top\">&lt;cartolafc.models.Pontuac<br>aoInfo object at ...</td>\n",
       "        <td style=\"padding-left: 1em; padding-right: 1em; text-align: center; vertical-align: top\">&lt;cartolafc.models.Pontuac<br>aoInfo object at ...</td>\n",
       "    </tr>\n",
       "    <tr>\n",
       "        <td style=\"padding-left: 1em; padding-right: 1em; text-align: center; vertical-align: top\">&lt;cartolafc.models.Pontuac<br>aoInfo object at ...</td>\n",
       "        <td style=\"padding-left: 1em; padding-right: 1em; text-align: center; vertical-align: top\">&lt;cartolafc.models.Pontuac<br>aoInfo object at ...</td>\n",
       "    </tr>\n",
       "    <tr>\n",
       "        <td style=\"padding-left: 1em; padding-right: 1em; text-align: center; vertical-align: top\">&lt;cartolafc.models.Pontuac<br>aoInfo object at ...</td>\n",
       "        <td style=\"padding-left: 1em; padding-right: 1em; text-align: center; vertical-align: top\">&lt;cartolafc.models.Pontuac<br>aoInfo object at ...</td>\n",
       "    </tr>\n",
       "    <tr>\n",
       "        <td style=\"padding-left: 1em; padding-right: 1em; text-align: center; vertical-align: top\">&lt;cartolafc.models.Pontuac<br>aoInfo object at ...</td>\n",
       "        <td style=\"padding-left: 1em; padding-right: 1em; text-align: center; vertical-align: top\">&lt;cartolafc.models.Pontuac<br>aoInfo object at ...</td>\n",
       "    </tr>\n",
       "    <tr>\n",
       "        <td style=\"padding-left: 1em; padding-right: 1em; text-align: center; vertical-align: top\">&lt;cartolafc.models.Pontuac<br>aoInfo object at ...</td>\n",
       "        <td style=\"padding-left: 1em; padding-right: 1em; text-align: center; vertical-align: top\">&lt;cartolafc.models.Pontuac<br>aoInfo object at ...</td>\n",
       "    </tr>\n",
       "    <tr>\n",
       "        <td style=\"padding-left: 1em; padding-right: 1em; text-align: center; vertical-align: top\">&lt;cartolafc.models.Pontuac<br>aoInfo object at ...</td>\n",
       "        <td style=\"padding-left: 1em; padding-right: 1em; text-align: center; vertical-align: top\">&lt;cartolafc.models.Pontuac<br>aoInfo object at ...</td>\n",
       "    </tr>\n",
       "    <tr>\n",
       "        <td style=\"padding-left: 1em; padding-right: 1em; text-align: center; vertical-align: top\">&lt;cartolafc.models.Pontuac<br>aoInfo object at ...</td>\n",
       "        <td style=\"padding-left: 1em; padding-right: 1em; text-align: center; vertical-align: top\">&lt;cartolafc.models.Pontuac<br>aoInfo object at ...</td>\n",
       "    </tr>\n",
       "    <tr>\n",
       "        <td style=\"padding-left: 1em; padding-right: 1em; text-align: center; vertical-align: top\">&lt;cartolafc.models.Pontuac<br>aoInfo object at ...</td>\n",
       "        <td style=\"padding-left: 1em; padding-right: 1em; text-align: center; vertical-align: top\">&lt;cartolafc.models.Pontuac<br>aoInfo object at ...</td>\n",
       "    </tr>\n",
       "</table>\n",
       "[10 rows x 37 columns]<br/>\n",
       "</div>"
      ],
      "text/plain": [
       "Columns:\n",
       "\tX1\tint\n",
       "\tid\tint\n",
       "\tposicao\tint\n",
       "\tapelido\tstr\n",
       "\tclube\tstr\n",
       "\tposicao.1\tstr\n",
       "\tultima_pontuacao\tfloat\n",
       "\tstatus\tstr\n",
       "\tFD\tint\n",
       "\tG\tint\n",
       "\tCA\tint\n",
       "\tFC\tint\n",
       "\tFS\tint\n",
       "\tDD\tint\n",
       "\tGS\tint\n",
       "\tPP\tint\n",
       "\tSG\tint\n",
       "\tCV\tint\n",
       "\tFT\tint\n",
       "\tA\tint\n",
       "\tPE\tint\n",
       "\tRB\tint\n",
       "\tDP\tint\n",
       "\tI\tint\n",
       "\tFF\tint\n",
       "\tR1\tstr\n",
       "\tR2\tstr\n",
       "\tR3\tstr\n",
       "\tR4\tstr\n",
       "\tR5\tstr\n",
       "\tR6\tstr\n",
       "\tR7\tstr\n",
       "\tR8\tstr\n",
       "\tR9\tstr\n",
       "\tR10\tstr\n",
       "\tR11\tstr\n",
       "\tR12\tstr\n",
       "\n",
       "Rows: 10\n",
       "\n",
       "Data:\n",
       "+----+-------+---------+----------------+-------------+-----------+------------------+\n",
       "| X1 |   id  | posicao |    apelido     |    clube    | posicao.1 | ultima_pontuacao |\n",
       "+----+-------+---------+----------------+-------------+-----------+------------------+\n",
       "| 2  | 93414 |    2    |   Joel Carli   |   Botafogo  |  Zagueiro |       3.8        |\n",
       "| 3  | 68930 |    3    |     Kieza      |   Vitória   |  Atacante |       8.0        |\n",
       "| 5  | 75295 |    5    | Paolo Guerrero |   Flamengo  |  Atacante |       9.4        |\n",
       "| 6  | 92081 |    6    |  Richarlison   |  Fluminense |  Atacante |       18.4       |\n",
       "| 7  | 38100 |    7    |     Durval     |    Sport    |  Zagueiro |       2.2        |\n",
       "| 10 | 50317 |    10   |   David Braz   |    Santos   |  Zagueiro |       -1.2       |\n",
       "| 11 | 37662 |    11   |    Jonathan    | Atlético-PR |  Lateral  |       5.8        |\n",
       "| 12 | 38909 |    12   |     Diego      |   Flamengo  |    Meia   |       1.2        |\n",
       "| 13 | 38140 |    13   | Fernando Prass |  Palmeiras  |  Goleiro  |       11.0       |\n",
       "| 14 | 90061 |    14   | Bruno Pacheco  | Atlético-GO |  Lateral  |       -2.6       |\n",
       "+----+-------+---------+----------------+-------------+-----------+------------------+\n",
       "+----------+----+---+----+----+----+----+----+----+----+----+----+----+-----+\n",
       "|  status  | FD | G | CA | FC | FS | DD | GS | PP | SG | CV | FT | A  | ... |\n",
       "+----------+----+---+----+----+----+----+----+----+----+----+----+----+-----+\n",
       "| Provável | 0  | 0 | 0  | 0  | 0  | 0  | 4  | 0  | 1  | 0  | 2  | 1  | ... |\n",
       "| Provável | 0  | 0 | 0  | 0  | 0  | 1  | 1  | 0  | 0  | 0  | 0  | 10 | ... |\n",
       "|   Nulo   | 0  | 0 | 2  | 0  | 0  | 0  | 4  | 0  | 0  | 0  | 0  | 7  | ... |\n",
       "|   Nulo   | 1  | 0 | 2  | 0  | 0  | 2  | 7  | 0  | 1  | 0  | 0  | 9  | ... |\n",
       "| Provável | 0  | 0 | 0  | 0  | 0  | 0  | 2  | 0  | 0  | 0  | 0  | 1  | ... |\n",
       "| Provável | 0  | 0 | 0  | 0  | 0  | 1  | 2  | 0  | 1  | 0  | 1  | 1  | ... |\n",
       "| Provável | 0  | 0 | 0  | 0  | 0  | 0  | 6  | 0  | 0  | 0  | 0  | 4  | ... |\n",
       "| Provável | 0  | 0 | 1  | 0  | 0  | 0  | 0  | 0  | 0  | 0  | 0  | 2  | ... |\n",
       "| Provável | 0  | 3 | 0  | 8  | 0  | 0  | 0  | 0  | 0  | 0  | 2  | 1  | ... |\n",
       "| Provável | 1  | 0 | 0  | 0  | 0  | 0  | 5  | 0  | 1  | 0  | 0  | 7  | ... |\n",
       "+----------+----+---+----+----+----+----+----+----+----+----+----+----+-----+\n",
       "[10 rows x 37 columns]"
      ]
     },
     "execution_count": 59,
     "metadata": {},
     "output_type": "execute_result"
    }
   ],
   "source": [
    "data.head()"
   ]
  },
  {
   "cell_type": "code",
   "execution_count": 12,
   "metadata": {
    "collapsed": true
   },
   "outputs": [],
   "source": [
    "train_data , test_data = data.random_split(.8,seed=0)"
   ]
  },
  {
   "cell_type": "code",
   "execution_count": 13,
   "metadata": {},
   "outputs": [
    {
     "name": "stdout",
     "output_type": "stream",
     "text": [
      "240\n",
      "48\n"
     ]
    }
   ],
   "source": [
    "print len(train_data)\n",
    "print len(test_data)"
   ]
  },
  {
   "cell_type": "code",
   "execution_count": 16,
   "metadata": {
    "collapsed": true
   },
   "outputs": [],
   "source": [
    "feat_scouts = [\"FD\",\"G\",\"CA\",\"FC\",\"FS\",\"DD\",\"GS\",\"PP\",\"SG\",\"CV\",\"FT\",\"A\",\"PE\",\"RB\",\"DP\",\"I\",\"FF\"]"
   ]
  },
  {
   "cell_type": "code",
   "execution_count": 15,
   "metadata": {
    "collapsed": true
   },
   "outputs": [],
   "source": [
    "min_model = graphlab.linear_regression.create?"
   ]
  },
  {
   "cell_type": "code",
   "execution_count": 17,
   "metadata": {},
   "outputs": [
    {
     "data": {
      "text/html": [
       "<pre>WARNING: Detected extremely low variance for feature(s) 'FS' because all entries are nearly the same.\n",
       "Proceeding with model training using all features. If the model does not provide results of adequate quality, exclude the above mentioned feature(s) from the input dataset.</pre>"
      ],
      "text/plain": [
       "WARNING: Detected extremely low variance for feature(s) 'FS' because all entries are nearly the same.\n",
       "Proceeding with model training using all features. If the model does not provide results of adequate quality, exclude the above mentioned feature(s) from the input dataset."
      ]
     },
     "metadata": {},
     "output_type": "display_data"
    },
    {
     "data": {
      "text/html": [
       "<pre>Linear regression:</pre>"
      ],
      "text/plain": [
       "Linear regression:"
      ]
     },
     "metadata": {},
     "output_type": "display_data"
    },
    {
     "data": {
      "text/html": [
       "<pre>--------------------------------------------------------</pre>"
      ],
      "text/plain": [
       "--------------------------------------------------------"
      ]
     },
     "metadata": {},
     "output_type": "display_data"
    },
    {
     "data": {
      "text/html": [
       "<pre>Number of examples          : 240</pre>"
      ],
      "text/plain": [
       "Number of examples          : 240"
      ]
     },
     "metadata": {},
     "output_type": "display_data"
    },
    {
     "data": {
      "text/html": [
       "<pre>Number of features          : 17</pre>"
      ],
      "text/plain": [
       "Number of features          : 17"
      ]
     },
     "metadata": {},
     "output_type": "display_data"
    },
    {
     "data": {
      "text/html": [
       "<pre>Number of unpacked features : 17</pre>"
      ],
      "text/plain": [
       "Number of unpacked features : 17"
      ]
     },
     "metadata": {},
     "output_type": "display_data"
    },
    {
     "data": {
      "text/html": [
       "<pre>Number of coefficients    : 18</pre>"
      ],
      "text/plain": [
       "Number of coefficients    : 18"
      ]
     },
     "metadata": {},
     "output_type": "display_data"
    },
    {
     "data": {
      "text/html": [
       "<pre>Starting Newton Method</pre>"
      ],
      "text/plain": [
       "Starting Newton Method"
      ]
     },
     "metadata": {},
     "output_type": "display_data"
    },
    {
     "data": {
      "text/html": [
       "<pre>--------------------------------------------------------</pre>"
      ],
      "text/plain": [
       "--------------------------------------------------------"
      ]
     },
     "metadata": {},
     "output_type": "display_data"
    },
    {
     "data": {
      "text/html": [
       "<pre>+-----------+----------+--------------+--------------------+----------------------+---------------+-----------------+</pre>"
      ],
      "text/plain": [
       "+-----------+----------+--------------+--------------------+----------------------+---------------+-----------------+"
      ]
     },
     "metadata": {},
     "output_type": "display_data"
    },
    {
     "data": {
      "text/html": [
       "<pre>| Iteration | Passes   | Elapsed Time | Training-max_error | Validation-max_error | Training-rmse | Validation-rmse |</pre>"
      ],
      "text/plain": [
       "| Iteration | Passes   | Elapsed Time | Training-max_error | Validation-max_error | Training-rmse | Validation-rmse |"
      ]
     },
     "metadata": {},
     "output_type": "display_data"
    },
    {
     "data": {
      "text/html": [
       "<pre>+-----------+----------+--------------+--------------------+----------------------+---------------+-----------------+</pre>"
      ],
      "text/plain": [
       "+-----------+----------+--------------+--------------------+----------------------+---------------+-----------------+"
      ]
     },
     "metadata": {},
     "output_type": "display_data"
    },
    {
     "data": {
      "text/html": [
       "<pre>| 1         | 2        | 1.059610     | 10.217732          | 18.325372            | 3.086910      | 3.891165        |</pre>"
      ],
      "text/plain": [
       "| 1         | 2        | 1.059610     | 10.217732          | 18.325372            | 3.086910      | 3.891165        |"
      ]
     },
     "metadata": {},
     "output_type": "display_data"
    },
    {
     "data": {
      "text/html": [
       "<pre>+-----------+----------+--------------+--------------------+----------------------+---------------+-----------------+</pre>"
      ],
      "text/plain": [
       "+-----------+----------+--------------+--------------------+----------------------+---------------+-----------------+"
      ]
     },
     "metadata": {},
     "output_type": "display_data"
    },
    {
     "data": {
      "text/html": [
       "<pre>SUCCESS: Optimal solution found.</pre>"
      ],
      "text/plain": [
       "SUCCESS: Optimal solution found."
      ]
     },
     "metadata": {},
     "output_type": "display_data"
    },
    {
     "data": {
      "text/html": [
       "<pre></pre>"
      ],
      "text/plain": []
     },
     "metadata": {},
     "output_type": "display_data"
    }
   ],
   "source": [
    "min_model = graphlab.linear_regression.create(\n",
    "                                                dataset=train_data,\n",
    "                                                target='ultima_pontuacao',\n",
    "                                                features=feat_scouts,\n",
    "                                                validation_set=test_data\n",
    "                                            )"
   ]
  },
  {
   "cell_type": "code",
   "execution_count": 19,
   "metadata": {},
   "outputs": [
    {
     "data": {
      "text/plain": [
       "{'max_error': 18.32537207912526, 'rmse': 3.891164704414994}"
      ]
     },
     "execution_count": 19,
     "metadata": {},
     "output_type": "execute_result"
    }
   ],
   "source": [
    "min_model.evaluate(test_data)"
   ]
  },
  {
   "cell_type": "code",
   "execution_count": 24,
   "metadata": {},
   "outputs": [
    {
     "name": "stdout",
     "output_type": "stream",
     "text": [
      "Apelido Roger Carvalho - Clube Atlético-GO - Ultima Pontuacao 4.8\n"
     ]
    }
   ],
   "source": [
    "jogador1 = test_data[0]\n",
    "print \"Apelido {} - Clube {} - Ultima Pontuacao {}\".format(jogador1['apelido'],jogador1['clube'],jogador1['ultima_pontuacao'])"
   ]
  },
  {
   "cell_type": "code",
   "execution_count": 64,
   "metadata": {},
   "outputs": [],
   "source": [
    "data['pontuacao_predita'] = min_model.predict(data)\n",
    "data['erro'] = data['ultima_pontuacao'] - data['pontuacao_predita']"
   ]
  },
  {
   "cell_type": "code",
   "execution_count": 46,
   "metadata": {},
   "outputs": [
    {
     "name": "stdout",
     "output_type": "stream",
     "text": [
      "+------------------+-----------+------------------+-------------------+\n",
      "|     apelido      | posicao.1 | ultima_pontuacao | pontuacao_predita |\n",
      "+------------------+-----------+------------------+-------------------+\n",
      "|    Vanderlei     |  Goleiro  |       -1.0       |   17.3253720791   |\n",
      "|    Zé Rafael     |    Meia   |       21.1       |   10.5243921474   |\n",
      "|      Lucca       |  Atacante |       9.7        |   9.20646548276   |\n",
      "|     Allione      |    Meia   |       11.7       |   7.04223909855   |\n",
      "|  Fagner Alemão   |  Lateral  |       7.7        |    6.7191159853   |\n",
      "| Guilherme Arana  |  Lateral  |       3.2        |   6.43048971158   |\n",
      "|    João Lucas    |  Lateral  |       12.0       |   6.30211363335   |\n",
      "|     Gabriel      |  Zagueiro |       8.5        |   6.13371972065   |\n",
      "|   Edu Dracena    |  Zagueiro |       6.2        |   5.41546928148   |\n",
      "|  Roger Carvalho  |  Zagueiro |       4.8        |   4.50217417612   |\n",
      "|      Rildo       |  Atacante |       4.5        |   4.23748756865   |\n",
      "|      Lucão       |  Zagueiro |       1.6        |   4.05349319561   |\n",
      "|       Pará       |  Lateral  |       4.0        |   3.86500424364   |\n",
      "|  Lucas Barrios   |  Atacante |       5.0        |   3.21127216679   |\n",
      "|  Márcio Araújo   |    Meia   |       2.8        |   3.13400756773   |\n",
      "| Matheus Rossetto |    Meia   |       0.9        |   3.09939227334   |\n",
      "|     Edílson      |  Lateral  |       4.5        |   3.03839152141   |\n",
      "|    Tchê Tchê     |    Meia   |       3.5        |   2.99514705854   |\n",
      "|     Henrique     |  Lateral  |       3.1        |   2.93713147845   |\n",
      "|      Arthur      |  Atacante |       0.4        |   2.65176000123   |\n",
      "+------------------+-----------+------------------+-------------------+\n",
      "+-----------------+\n",
      "|       erro      |\n",
      "+-----------------+\n",
      "|  -18.3253720791 |\n",
      "|  10.5756078526  |\n",
      "|  0.49353451724  |\n",
      "|  4.65776090145  |\n",
      "|  0.980884014698 |\n",
      "|  -3.23048971158 |\n",
      "|  5.69788636665  |\n",
      "|  2.36628027935  |\n",
      "|  0.78453071852  |\n",
      "|  0.297825823877 |\n",
      "|  0.26251243135  |\n",
      "|  -2.45349319561 |\n",
      "|  0.134995756364 |\n",
      "|  1.78872783321  |\n",
      "| -0.334007567735 |\n",
      "|  -2.19939227334 |\n",
      "|  1.46160847859  |\n",
      "|  0.504852941458 |\n",
      "|  0.162868521553 |\n",
      "|  -2.25176000123 |\n",
      "+-----------------+\n",
      "[48 rows x 5 columns]\n",
      "\n"
     ]
    }
   ],
   "source": [
    "test_data['apelido','posicao.1','ultima_pontuacao','pontuacao_predita','erro'].sort('pontuacao_predita',ascending=False).print_rows(num_rows=20)"
   ]
  },
  {
   "cell_type": "code",
   "execution_count": 63,
   "metadata": {},
   "outputs": [
    {
     "name": "stdout",
     "output_type": "stream",
     "text": [
      "+-----------------+-----------+------------------+-------------------+\n",
      "|     apelido     | posicao.1 | ultima_pontuacao | pontuacao_predita |\n",
      "+-----------------+-----------+------------------+-------------------+\n",
      "|    Zé Rafael    |    Meia   |       21.1       |   10.5243921474   |\n",
      "|    João Lucas   |  Lateral  |       12.0       |   6.30211363335   |\n",
      "|     Allione     |    Meia   |       11.7       |   7.04223909855   |\n",
      "|      Lucca      |  Atacante |       9.7        |   9.20646548276   |\n",
      "|     Gabriel     |  Zagueiro |       8.5        |   6.13371972065   |\n",
      "|  Fagner Alemão  |  Lateral  |       7.7        |    6.7191159853   |\n",
      "|   Fábio Santos  |  Lateral  |       6.3        |  -0.201486655318  |\n",
      "|   Edu Dracena   |  Zagueiro |       6.2        |   5.41546928148   |\n",
      "| Vinicius Junior |  Atacante |       5.5        |   2.26495246686   |\n",
      "|  Vagner Mancini |  Técnico  |       5.28       |   1.38579756891   |\n",
      "|  Gabriel Xavier |    Meia   |       5.1        |    2.6002861975   |\n",
      "|  Lucas Barrios  |  Atacante |       5.0        |   3.21127216679   |\n",
      "|  Roger Carvalho |  Zagueiro |       4.8        |   4.50217417612   |\n",
      "|     Edílson     |  Lateral  |       4.5        |   3.03839152141   |\n",
      "|      Rildo      |  Atacante |       4.5        |   4.23748756865   |\n",
      "|  Rafael Carioca |    Meia   |       4.3        |   1.61711896491   |\n",
      "|       Pará      |  Lateral  |       4.0        |   3.86500424364   |\n",
      "|    Tchê Tchê    |    Meia   |       3.5        |   2.99514705854   |\n",
      "| Guilherme Arana |  Lateral  |       3.2        |   6.43048971158   |\n",
      "|     Henrique    |  Lateral  |       3.1        |   2.93713147845   |\n",
      "+-----------------+-----------+------------------+-------------------+\n",
      "+----------------+\n",
      "|      erro      |\n",
      "+----------------+\n",
      "| 10.5756078526  |\n",
      "| 5.69788636665  |\n",
      "| 4.65776090145  |\n",
      "| 0.49353451724  |\n",
      "| 2.36628027935  |\n",
      "| 0.980884014698 |\n",
      "| 6.50148665532  |\n",
      "| 0.78453071852  |\n",
      "| 3.23504753314  |\n",
      "| 3.89420243109  |\n",
      "|  2.4997138025  |\n",
      "| 1.78872783321  |\n",
      "| 0.297825823877 |\n",
      "| 1.46160847859  |\n",
      "| 0.26251243135  |\n",
      "| 2.68288103509  |\n",
      "| 0.134995756364 |\n",
      "| 0.504852941458 |\n",
      "| -3.23048971158 |\n",
      "| 0.162868521553 |\n",
      "+----------------+\n",
      "[48 rows x 5 columns]\n",
      "\n"
     ]
    }
   ],
   "source": [
    "test_data['apelido','posicao.1','ultima_pontuacao','pontuacao_predita','erro'].sort('ultima_pontuacao',ascending=False).print_rows(num_rows=20)"
   ]
  },
  {
   "cell_type": "code",
   "execution_count": 71,
   "metadata": {},
   "outputs": [
    {
     "data": {
      "text/html": [
       "<div style=\"max-height:1000px;max-width:1500px;overflow:auto;\"><table frame=\"box\" rules=\"cols\">\n",
       "    <tr>\n",
       "        <th style=\"padding-left: 1em; padding-right: 1em; text-align: center\">X1</th>\n",
       "        <th style=\"padding-left: 1em; padding-right: 1em; text-align: center\">id</th>\n",
       "        <th style=\"padding-left: 1em; padding-right: 1em; text-align: center\">posicao</th>\n",
       "        <th style=\"padding-left: 1em; padding-right: 1em; text-align: center\">apelido</th>\n",
       "        <th style=\"padding-left: 1em; padding-right: 1em; text-align: center\">clube</th>\n",
       "        <th style=\"padding-left: 1em; padding-right: 1em; text-align: center\">posicao.1</th>\n",
       "        <th style=\"padding-left: 1em; padding-right: 1em; text-align: center\">ultima_pontuacao</th>\n",
       "        <th style=\"padding-left: 1em; padding-right: 1em; text-align: center\">status</th>\n",
       "        <th style=\"padding-left: 1em; padding-right: 1em; text-align: center\">FD</th>\n",
       "        <th style=\"padding-left: 1em; padding-right: 1em; text-align: center\">G</th>\n",
       "        <th style=\"padding-left: 1em; padding-right: 1em; text-align: center\">CA</th>\n",
       "        <th style=\"padding-left: 1em; padding-right: 1em; text-align: center\">FC</th>\n",
       "        <th style=\"padding-left: 1em; padding-right: 1em; text-align: center\">FS</th>\n",
       "        <th style=\"padding-left: 1em; padding-right: 1em; text-align: center\">DD</th>\n",
       "    </tr>\n",
       "    <tr>\n",
       "        <td style=\"padding-left: 1em; padding-right: 1em; text-align: center; vertical-align: top\">560</td>\n",
       "        <td style=\"padding-left: 1em; padding-right: 1em; text-align: center; vertical-align: top\">89637</td>\n",
       "        <td style=\"padding-left: 1em; padding-right: 1em; text-align: center; vertical-align: top\">560</td>\n",
       "        <td style=\"padding-left: 1em; padding-right: 1em; text-align: center; vertical-align: top\">Thiago Maia</td>\n",
       "        <td style=\"padding-left: 1em; padding-right: 1em; text-align: center; vertical-align: top\">Santos</td>\n",
       "        <td style=\"padding-left: 1em; padding-right: 1em; text-align: center; vertical-align: top\">Meia</td>\n",
       "        <td style=\"padding-left: 1em; padding-right: 1em; text-align: center; vertical-align: top\">2.2</td>\n",
       "        <td style=\"padding-left: 1em; padding-right: 1em; text-align: center; vertical-align: top\">Provável</td>\n",
       "        <td style=\"padding-left: 1em; padding-right: 1em; text-align: center; vertical-align: top\">0</td>\n",
       "        <td style=\"padding-left: 1em; padding-right: 1em; text-align: center; vertical-align: top\">0</td>\n",
       "        <td style=\"padding-left: 1em; padding-right: 1em; text-align: center; vertical-align: top\">0</td>\n",
       "        <td style=\"padding-left: 1em; padding-right: 1em; text-align: center; vertical-align: top\">0</td>\n",
       "        <td style=\"padding-left: 1em; padding-right: 1em; text-align: center; vertical-align: top\">0</td>\n",
       "        <td style=\"padding-left: 1em; padding-right: 1em; text-align: center; vertical-align: top\">0</td>\n",
       "    </tr>\n",
       "</table>\n",
       "<table frame=\"box\" rules=\"cols\">\n",
       "    <tr>\n",
       "        <th style=\"padding-left: 1em; padding-right: 1em; text-align: center\">GS</th>\n",
       "        <th style=\"padding-left: 1em; padding-right: 1em; text-align: center\">PP</th>\n",
       "        <th style=\"padding-left: 1em; padding-right: 1em; text-align: center\">SG</th>\n",
       "        <th style=\"padding-left: 1em; padding-right: 1em; text-align: center\">CV</th>\n",
       "        <th style=\"padding-left: 1em; padding-right: 1em; text-align: center\">FT</th>\n",
       "        <th style=\"padding-left: 1em; padding-right: 1em; text-align: center\">A</th>\n",
       "        <th style=\"padding-left: 1em; padding-right: 1em; text-align: center\">PE</th>\n",
       "        <th style=\"padding-left: 1em; padding-right: 1em; text-align: center\">RB</th>\n",
       "        <th style=\"padding-left: 1em; padding-right: 1em; text-align: center\">DP</th>\n",
       "        <th style=\"padding-left: 1em; padding-right: 1em; text-align: center\">I</th>\n",
       "        <th style=\"padding-left: 1em; padding-right: 1em; text-align: center\">FF</th>\n",
       "        <th style=\"padding-left: 1em; padding-right: 1em; text-align: center\">R1</th>\n",
       "        <th style=\"padding-left: 1em; padding-right: 1em; text-align: center\">R2</th>\n",
       "    </tr>\n",
       "    <tr>\n",
       "        <td style=\"padding-left: 1em; padding-right: 1em; text-align: center; vertical-align: top\">10</td>\n",
       "        <td style=\"padding-left: 1em; padding-right: 1em; text-align: center; vertical-align: top\">0</td>\n",
       "        <td style=\"padding-left: 1em; padding-right: 1em; text-align: center; vertical-align: top\">1</td>\n",
       "        <td style=\"padding-left: 1em; padding-right: 1em; text-align: center; vertical-align: top\">0</td>\n",
       "        <td style=\"padding-left: 1em; padding-right: 1em; text-align: center; vertical-align: top\">0</td>\n",
       "        <td style=\"padding-left: 1em; padding-right: 1em; text-align: center; vertical-align: top\">5</td>\n",
       "        <td style=\"padding-left: 1em; padding-right: 1em; text-align: center; vertical-align: top\">0</td>\n",
       "        <td style=\"padding-left: 1em; padding-right: 1em; text-align: center; vertical-align: top\">12</td>\n",
       "        <td style=\"padding-left: 1em; padding-right: 1em; text-align: center; vertical-align: top\">0</td>\n",
       "        <td style=\"padding-left: 1em; padding-right: 1em; text-align: center; vertical-align: top\">1</td>\n",
       "        <td style=\"padding-left: 1em; padding-right: 1em; text-align: center; vertical-align: top\">13</td>\n",
       "        <td style=\"padding-left: 1em; padding-right: 1em; text-align: center; vertical-align: top\">&lt;cartolafc.models.Pontuac<br>aoInfo object at ...</td>\n",
       "        <td style=\"padding-left: 1em; padding-right: 1em; text-align: center; vertical-align: top\">&lt;cartolafc.models.Pontuac<br>aoInfo object at ...</td>\n",
       "    </tr>\n",
       "</table>\n",
       "<table frame=\"box\" rules=\"cols\">\n",
       "    <tr>\n",
       "        <th style=\"padding-left: 1em; padding-right: 1em; text-align: center\">R3</th>\n",
       "        <th style=\"padding-left: 1em; padding-right: 1em; text-align: center\">R4</th>\n",
       "        <th style=\"padding-left: 1em; padding-right: 1em; text-align: center\">R5</th>\n",
       "        <th style=\"padding-left: 1em; padding-right: 1em; text-align: center\">R6</th>\n",
       "    </tr>\n",
       "    <tr>\n",
       "        <td style=\"padding-left: 1em; padding-right: 1em; text-align: center; vertical-align: top\">&lt;cartolafc.models.Pontuac<br>aoInfo object at ...</td>\n",
       "        <td style=\"padding-left: 1em; padding-right: 1em; text-align: center; vertical-align: top\">&lt;cartolafc.models.Pontuac<br>aoInfo object at ...</td>\n",
       "        <td style=\"padding-left: 1em; padding-right: 1em; text-align: center; vertical-align: top\">&lt;cartolafc.models.Pontuac<br>aoInfo object at ...</td>\n",
       "        <td style=\"padding-left: 1em; padding-right: 1em; text-align: center; vertical-align: top\">&lt;cartolafc.models.Pontuac<br>aoInfo object at ...</td>\n",
       "    </tr>\n",
       "</table>\n",
       "<table frame=\"box\" rules=\"cols\">\n",
       "    <tr>\n",
       "        <th style=\"padding-left: 1em; padding-right: 1em; text-align: center\">R7</th>\n",
       "        <th style=\"padding-left: 1em; padding-right: 1em; text-align: center\">R8</th>\n",
       "        <th style=\"padding-left: 1em; padding-right: 1em; text-align: center\">R9</th>\n",
       "        <th style=\"padding-left: 1em; padding-right: 1em; text-align: center\">R10</th>\n",
       "    </tr>\n",
       "    <tr>\n",
       "        <td style=\"padding-left: 1em; padding-right: 1em; text-align: center; vertical-align: top\">&lt;cartolafc.models.Pontuac<br>aoInfo object at ...</td>\n",
       "        <td style=\"padding-left: 1em; padding-right: 1em; text-align: center; vertical-align: top\">&lt;cartolafc.models.Pontuac<br>aoInfo object at ...</td>\n",
       "        <td style=\"padding-left: 1em; padding-right: 1em; text-align: center; vertical-align: top\">&lt;cartolafc.models.Pontuac<br>aoInfo object at ...</td>\n",
       "        <td style=\"padding-left: 1em; padding-right: 1em; text-align: center; vertical-align: top\">&lt;cartolafc.models.Pontuac<br>aoInfo object at ...</td>\n",
       "    </tr>\n",
       "</table>\n",
       "<table frame=\"box\" rules=\"cols\">\n",
       "    <tr>\n",
       "        <th style=\"padding-left: 1em; padding-right: 1em; text-align: center\">R11</th>\n",
       "        <th style=\"padding-left: 1em; padding-right: 1em; text-align: center\">R12</th>\n",
       "        <th style=\"padding-left: 1em; padding-right: 1em; text-align: center\">pontuacao_predita</th>\n",
       "        <th style=\"padding-left: 1em; padding-right: 1em; text-align: center\">erro</th>\n",
       "    </tr>\n",
       "    <tr>\n",
       "        <td style=\"padding-left: 1em; padding-right: 1em; text-align: center; vertical-align: top\">&lt;cartolafc.models.Pontuac<br>aoInfo object at ...</td>\n",
       "        <td style=\"padding-left: 1em; padding-right: 1em; text-align: center; vertical-align: top\">&lt;cartolafc.models.Pontuac<br>aoInfo object at ...</td>\n",
       "        <td style=\"padding-left: 1em; padding-right: 1em; text-align: center; vertical-align: top\">0.847253784224</td>\n",
       "        <td style=\"padding-left: 1em; padding-right: 1em; text-align: center; vertical-align: top\">1.35274621578</td>\n",
       "    </tr>\n",
       "</table>\n",
       "[? rows x 39 columns]<br/>Note: Only the head of the SFrame is printed. This SFrame is lazily evaluated.<br/>You can use sf.materialize() to force materialization.\n",
       "</div>"
      ],
      "text/plain": [
       "Columns:\n",
       "\tX1\tint\n",
       "\tid\tint\n",
       "\tposicao\tint\n",
       "\tapelido\tstr\n",
       "\tclube\tstr\n",
       "\tposicao.1\tstr\n",
       "\tultima_pontuacao\tfloat\n",
       "\tstatus\tstr\n",
       "\tFD\tint\n",
       "\tG\tint\n",
       "\tCA\tint\n",
       "\tFC\tint\n",
       "\tFS\tint\n",
       "\tDD\tint\n",
       "\tGS\tint\n",
       "\tPP\tint\n",
       "\tSG\tint\n",
       "\tCV\tint\n",
       "\tFT\tint\n",
       "\tA\tint\n",
       "\tPE\tint\n",
       "\tRB\tint\n",
       "\tDP\tint\n",
       "\tI\tint\n",
       "\tFF\tint\n",
       "\tR1\tstr\n",
       "\tR2\tstr\n",
       "\tR3\tstr\n",
       "\tR4\tstr\n",
       "\tR5\tstr\n",
       "\tR6\tstr\n",
       "\tR7\tstr\n",
       "\tR8\tstr\n",
       "\tR9\tstr\n",
       "\tR10\tstr\n",
       "\tR11\tstr\n",
       "\tR12\tstr\n",
       "\tpontuacao_predita\tfloat\n",
       "\terro\tfloat\n",
       "\n",
       "Rows: Unknown\n",
       "\n",
       "Data:\n",
       "+-----+-------+---------+-------------+--------+-----------+------------------+\n",
       "|  X1 |   id  | posicao |   apelido   | clube  | posicao.1 | ultima_pontuacao |\n",
       "+-----+-------+---------+-------------+--------+-----------+------------------+\n",
       "| 560 | 89637 |   560   | Thiago Maia | Santos |    Meia   |       2.2        |\n",
       "+-----+-------+---------+-------------+--------+-----------+------------------+\n",
       "+----------+----+---+----+----+----+----+----+----+----+----+----+---+-----+\n",
       "|  status  | FD | G | CA | FC | FS | DD | GS | PP | SG | CV | FT | A | ... |\n",
       "+----------+----+---+----+----+----+----+----+----+----+----+----+---+-----+\n",
       "| Provável | 0  | 0 | 0  | 0  | 0  | 0  | 10 | 0  | 1  | 0  | 0  | 5 | ... |\n",
       "+----------+----+---+----+----+----+----+----+----+----+----+----+---+-----+\n",
       "[? rows x 39 columns]\n",
       "Note: Only the head of the SFrame is printed. This SFrame is lazily evaluated.\n",
       "You can use sf.materialize() to force materialization."
      ]
     },
     "execution_count": 71,
     "metadata": {},
     "output_type": "execute_result"
    }
   ],
   "source": [
    "data[data['apelido']=='Thiago Maia']"
   ]
  },
  {
   "cell_type": "code",
   "execution_count": null,
   "metadata": {
    "collapsed": true
   },
   "outputs": [],
   "source": []
  }
 ],
 "metadata": {
  "anaconda-cloud": {},
  "kernelspec": {
   "display_name": "Python [conda env:gl-env]",
   "language": "python",
   "name": "conda-env-gl-env-py"
  },
  "language_info": {
   "codemirror_mode": {
    "name": "ipython",
    "version": 2
   },
   "file_extension": ".py",
   "mimetype": "text/x-python",
   "name": "python",
   "nbconvert_exporter": "python",
   "pygments_lexer": "ipython2",
   "version": "2.7.11"
  }
 },
 "nbformat": 4,
 "nbformat_minor": 1
}
